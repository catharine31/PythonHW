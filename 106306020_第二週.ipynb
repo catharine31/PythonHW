{
 "cells": [
  {
   "cell_type": "code",
   "execution_count": 2,
   "metadata": {},
   "outputs": [
    {
     "name": "stdout",
     "output_type": "stream",
     "text": [
      "Populating the interactive namespace from numpy and matplotlib\n"
     ]
    }
   ],
   "source": [
    "%pylab inline\n",
    "import matplotlib.pyplot as plt\n",
    "import numpy as np\n",
    "import random"
   ]
  },
  {
   "cell_type": "markdown",
   "metadata": {},
   "source": [
    "## 第一題"
   ]
  },
  {
   "cell_type": "code",
   "execution_count": 3,
   "metadata": {},
   "outputs": [
    {
     "name": "stdout",
     "output_type": "stream",
     "text": [
      "請輸入1~100的整數：43\n",
      "猜得太大了\n",
      "請輸入1~100的整數：33\n",
      "猜得太小了\n",
      "請輸入1~100的整數：36\n",
      "你猜對了\n"
     ]
    }
   ],
   "source": [
    "n = random.randint(1,101)\n",
    "game = True\n",
    "while game:\n",
    "    i = int(input(\"請輸入1~100的整數：\"))\n",
    "    if i == n:\n",
    "        print(\"你猜對了\")\n",
    "        game = False\n",
    "    elif i > n:\n",
    "        print(\"猜得太大了\")\n",
    "    else:\n",
    "        print(\"猜得太小了\")"
   ]
  },
  {
   "cell_type": "markdown",
   "metadata": {},
   "source": [
    "## 第二題"
   ]
  },
  {
   "cell_type": "code",
   "execution_count": null,
   "metadata": {},
   "outputs": [
    {
     "name": "stdout",
     "output_type": "stream",
     "text": [
      "你今天好嗎\n",
      "你今天好嗎\n",
      "感恩拍拍，讚嘆拍拍\n"
     ]
    }
   ],
   "source": [
    "while True:\n",
    "    anything = input()\n",
    "    print(anything)\n",
    "    print(\"感恩拍拍，讚嘆拍拍\")"
   ]
  },
  {
   "cell_type": "code",
   "execution_count": null,
   "metadata": {},
   "outputs": [],
   "source": []
  }
 ],
 "metadata": {
  "kernelspec": {
   "display_name": "Python 3",
   "language": "python",
   "name": "python3"
  },
  "language_info": {
   "codemirror_mode": {
    "name": "ipython",
    "version": 3
   },
   "file_extension": ".py",
   "mimetype": "text/x-python",
   "name": "python",
   "nbconvert_exporter": "python",
   "pygments_lexer": "ipython3",
   "version": "3.7.1"
  }
 },
 "nbformat": 4,
 "nbformat_minor": 2
}
