{
 "cells": [
  {
   "cell_type": "markdown",
   "metadata": {},
   "source": [
    "## 判斷email"
   ]
  },
  {
   "cell_type": "code",
   "execution_count": 16,
   "metadata": {},
   "outputs": [
    {
     "name": "stdout",
     "output_type": "stream",
     "text": [
      "2\n",
      "username@gmail.com\n",
      "Valid\n",
      "hello_world@yahoo.com.tw\n",
      "Invalid\n"
     ]
    }
   ],
   "source": [
    "n = int(input())\n",
    "username = []\n",
    "websitename = []\n",
    "extension = []\n",
    "country_code = []\n",
    "for i in range (n):\n",
    "    line = input().split(\"@\")\n",
    "    username.append(line[0])\n",
    "    line2 = line[1].split(\".\")\n",
    "    websitename.append(line2[0])\n",
    "    extension.append(line2[1])\n",
    "    try:\n",
    "        country_code.append(line2[2])\n",
    "    except:\n",
    "        country_code.append('a')\n",
    "        country_code.append('b')\n",
    "    if (username[i].isalpha() or username[i].islower() or username[i].isdigit()) and ((username[i] != '-') and (username[i] != '_') and ('!' not in username[i])) :\n",
    "        if websitename[i].islower() or websitename[i].isalpha():\n",
    "            if len(extension) <= 3 :\n",
    "                if len(country_code) == 2 :\n",
    "                    print('Valid')\n",
    "                else:\n",
    "                    print('Invalid')\n",
    "            else:\n",
    "                print('Invalid')\n",
    "        else:\n",
    "            print('Invalid')\n",
    "    else:\n",
    "        print('Invalid')"
   ]
  }
 ],
 "metadata": {
  "kernelspec": {
   "display_name": "Python 3",
   "language": "python",
   "name": "python3"
  },
  "language_info": {
   "codemirror_mode": {
    "name": "ipython",
    "version": 3
   },
   "file_extension": ".py",
   "mimetype": "text/x-python",
   "name": "python",
   "nbconvert_exporter": "python",
   "pygments_lexer": "ipython3",
   "version": "3.7.1"
  }
 },
 "nbformat": 4,
 "nbformat_minor": 2
}
