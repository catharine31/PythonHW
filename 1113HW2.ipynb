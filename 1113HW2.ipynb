{
 "cells": [
  {
   "cell_type": "markdown",
   "metadata": {},
   "source": [
    "## 讀資料並算加權平均"
   ]
  },
  {
   "cell_type": "code",
   "execution_count": 16,
   "metadata": {},
   "outputs": [],
   "source": [
    "import numpy as np"
   ]
  },
  {
   "cell_type": "code",
   "execution_count": 19,
   "metadata": {},
   "outputs": [
    {
     "name": "stdout",
     "output_type": "stream",
     "text": [
      "Weighted average\n",
      "Gigi : 70.0\n",
      "Vicky : 94.5\n",
      "Wendy : 86.0\n",
      "Amy : 92.3\n",
      "Leo : 86.2\n",
      "Ben : 77.0\n"
     ]
    }
   ],
   "source": [
    "with open('Grades.txt') as f:\n",
    "    content = f.readlines()\n",
    "content = [x.strip() for x in content]\n",
    "con = []\n",
    "string = \"\"\n",
    "for i in range (len(content)):\n",
    "    s = content[i].split(\" \")\n",
    "    grades = np.array(list(map(int, s[1:]))) * np.array([0.3, 0.4, 0.3])\n",
    "    gradeSum = round(sum(grades), 2)\n",
    "    string = f'{s[0]} : {gradeSum}'\n",
    "    con.append(string)\n",
    "print(\"Weighted average\")\n",
    "for i in con:\n",
    "    print(i, end = \"\\n\")\n"
   ]
  },
  {
   "cell_type": "code",
   "execution_count": null,
   "metadata": {},
   "outputs": [],
   "source": []
  }
 ],
 "metadata": {
  "kernelspec": {
   "display_name": "Python 3",
   "language": "python",
   "name": "python3"
  },
  "language_info": {
   "codemirror_mode": {
    "name": "ipython",
    "version": 3
   },
   "file_extension": ".py",
   "mimetype": "text/x-python",
   "name": "python",
   "nbconvert_exporter": "python",
   "pygments_lexer": "ipython3",
   "version": "3.7.1"
  }
 },
 "nbformat": 4,
 "nbformat_minor": 2
}
