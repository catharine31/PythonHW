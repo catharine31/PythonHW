{
 "cells": [
  {
   "cell_type": "code",
   "execution_count": 13,
   "metadata": {},
   "outputs": [
    {
     "ename": "IndentationError",
     "evalue": "unindent does not match any outer indentation level (<tokenize>, line 17)",
     "output_type": "error",
     "traceback": [
      "\u001b[0;36m  File \u001b[0;32m\"<tokenize>\"\u001b[0;36m, line \u001b[0;32m17\u001b[0m\n\u001b[0;31m    family[m].append(i)\u001b[0m\n\u001b[0m    ^\u001b[0m\n\u001b[0;31mIndentationError\u001b[0m\u001b[0;31m:\u001b[0m unindent does not match any outer indentation level\n"
     ]
    }
   ],
   "source": [
    "from numpy.random import randint\n",
    "housework = [\"cook\", \"mop the floor\", \"sweep the floor\", \n",
    "                 \"do the laudry\", \"do the dishes\", \"take out the trash\", \"clean the bathroom\"]\n",
    "numOfHousework = len(housework)\n",
    "family = []\n",
    "member = int(input(\"你有有幾人？\"))\n",
    "for i in range(member):\n",
    "    each = []\n",
    "    for i in range(numOfHousework//member):\n",
    "        n = randint(0, len(housework))\n",
    "        each.append(housework[n])\n",
    "        housework.remove(housework[n])\n",
    "    family.append(each)\n",
    "if (numOfHousework%member) != 0:\n",
    "    for i in housework:\n",
    "         m = randint(0, member)\n",
    "        family[m].append(i)\n",
    "print(\"每人的家事分別是：\")\n",
    "for j in family:\n",
    "    print(\", \".join(j))\n",
    "    print(\"---------------\")"
   ]
  },
  {
   "cell_type": "code",
   "execution_count": null,
   "metadata": {},
   "outputs": [],
   "source": []
  }
 ],
 "metadata": {
  "kernelspec": {
   "display_name": "Python 3",
   "language": "python",
   "name": "python3"
  },
  "language_info": {
   "codemirror_mode": {
    "name": "ipython",
    "version": 3
   },
   "file_extension": ".py",
   "mimetype": "text/x-python",
   "name": "python",
   "nbconvert_exporter": "python",
   "pygments_lexer": "ipython3",
   "version": "3.7.1"
  }
 },
 "nbformat": 4,
 "nbformat_minor": 2
}
