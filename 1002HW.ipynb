{
 "cells": [
  {
   "cell_type": "code",
   "execution_count": 4,
   "metadata": {},
   "outputs": [
    {
     "name": "stdout",
     "output_type": "stream",
     "text": [
      "你有有幾人？4\n",
      "每人的家事分別是：\n",
      "sweep the floor, do the laudry\n",
      "---------------\n",
      "take out the trash, cook\n",
      "---------------\n",
      "do the dishes, clean the bathroom\n",
      "---------------\n",
      "mop the floor\n",
      "---------------\n"
     ]
    }
   ],
   "source": []
  },
  {
   "cell_type": "code",
   "execution_count": 5,
   "metadata": {},
   "outputs": [
    {
     "name": "stdout",
     "output_type": "stream",
     "text": [
      "你有有幾人？4\n",
      "每人的家事分別是：\n",
      "take out the trash, sweep the floor\n",
      "---------------\n",
      "do the dishes, mop the floor\n",
      "---------------\n",
      "clean the bathroom\n",
      "---------------\n",
      "do the laudry, cook\n",
      "---------------\n"
     ]
    }
   ],
   "source": [
    "from numpy.random import randint\n",
    "housework = [\"cook\", \"mop the floor\", \"sweep the floor\", \n",
    "                 \"do the laudry\", \"do the dishes\", \"take out the trash\", \"clean the bathroom\"]\n",
    "numOfHousework = len(housework)\n",
    "family = []\n",
    "member = int(input(\"你有有幾人？\"))\n",
    "for i in range(member):\n",
    "    each = []\n",
    "    for i in range(numOfHousework//member):\n",
    "        n = randint(0, len(housework))\n",
    "        each.append(housework[n])\n",
    "        housework.remove(housework[n])\n",
    "    family.append(each)\n",
    "if (numOfHousework%member) != 0:\n",
    "    for i in housework:\n",
    "        m = randint(0, member)\n",
    "        family[m].append(i)\n",
    "print(\"每人的家事分別是：\")\n",
    "for j in family:\n",
    "    print(\", \".join(j))\n",
    "    print(\"---------------\")"
   ]
  },
  {
   "cell_type": "code",
   "execution_count": null,
   "metadata": {},
   "outputs": [],
   "source": []
  }
 ],
 "metadata": {
  "kernelspec": {
   "display_name": "Python 3",
   "language": "python",
   "name": "python3"
  },
  "language_info": {
   "codemirror_mode": {
    "name": "ipython",
    "version": 3
   },
   "file_extension": ".py",
   "mimetype": "text/x-python",
   "name": "python",
   "nbconvert_exporter": "python",
   "pygments_lexer": "ipython3",
   "version": "3.7.1"
  }
 },
 "nbformat": 4,
 "nbformat_minor": 2
}
