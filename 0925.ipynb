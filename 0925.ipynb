{
 "cells": [
  {
   "cell_type": "code",
   "execution_count": 24,
   "metadata": {},
   "outputs": [],
   "source": [
    "%matplotlib inline\n",
    "import numpy as np\n",
    "import matplotlib.pyplot as plt\n",
    "import pandas as pd\n"
   ]
  },
  {
   "cell_type": "code",
   "execution_count": 2,
   "metadata": {},
   "outputs": [
    {
     "data": {
      "text/plain": [
       "[1, 3, 5, 7, 9]"
      ]
     },
     "execution_count": 2,
     "metadata": {},
     "output_type": "execute_result"
    }
   ],
   "source": [
    "list(range(1, 11, 2))"
   ]
  },
  {
   "cell_type": "code",
   "execution_count": 32,
   "metadata": {},
   "outputs": [
    {
     "name": "stdout",
     "output_type": "stream",
     "text": [
      "1 2 3 4 5 \n",
      "1加到100: 5050\n"
     ]
    }
   ],
   "source": [
    "[x **2 for x in range(1, 11)]\n",
    "for i in range(1, 6):\n",
    "    print(i, end = \" \")\n",
    "print()\n",
    "s = 0\n",
    "for i in range(1, 101):\n",
    "    s += i\n",
    "print(\"1加到100:\", s)"
   ]
  },
  {
   "cell_type": "code",
   "execution_count": 7,
   "metadata": {},
   "outputs": [
    {
     "name": "stdout",
     "output_type": "stream",
     "text": [
      "[34960.97, 13622.49, 682831.35]\n"
     ]
    }
   ],
   "source": [
    "price = [1024, 399, 20000]\n",
    "L = list()\n",
    "eur = 34.1415677\n",
    "for p in price:\n",
    "    L.append(round(eur * p, 2))\n",
    "print(L)"
   ]
  },
  {
   "cell_type": "code",
   "execution_count": 10,
   "metadata": {},
   "outputs": [
    {
     "name": "stdout",
     "output_type": "stream",
     "text": [
      "輸入你要買的東西的價格：399, 200, 400\n",
      "價格 13622.49 台幣\n",
      "價格 6828.31 台幣\n",
      "價格 13656.63 台幣\n",
      "[13622.49, 6828.31, 13656.63]\n"
     ]
    }
   ],
   "source": [
    "price = input(\"輸入你要買的東西的價格：\")\n",
    "price =  price.split(\",\")\n",
    "listNT = list()\n",
    "for p in price:\n",
    "    p = float(p)\n",
    "    p =  round(eur * p, 2)\n",
    "    listNT.append(p)\n",
    "    print(\"價格\", p, \"台幣\")\n",
    "print(listNT)"
   ]
  },
  {
   "cell_type": "code",
   "execution_count": 11,
   "metadata": {},
   "outputs": [
    {
     "name": "stdout",
     "output_type": "stream",
     "text": [
      "輸入你要買的東西的價格：12     13    40    39   \n",
      "價格 409.7 台幣\n",
      "價格 443.84 台幣\n",
      "價格 1365.66 台幣\n",
      "價格 1331.52 台幣\n",
      "[409.7, 443.84, 1365.66, 1331.52]\n"
     ]
    }
   ],
   "source": [
    "priceEur = input(\"輸入你要買的東西的價格：\")\n",
    "priceEur =  priceEur.split()\n",
    "listNT = list()\n",
    "for p in priceEur:\n",
    "    p = float(p)\n",
    "    p =  round(eur * p, 2)\n",
    "    listNT.append(p)\n",
    "    print(\"價格\", p, \"台幣\")\n",
    "print(listNT)"
   ]
  },
  {
   "cell_type": "markdown",
   "metadata": {},
   "source": [
    "### map\n",
    "作用到一個list上，map(f, L)把f這個函數作用到L List中的每一個元素"
   ]
  },
  {
   "cell_type": "code",
   "execution_count": 14,
   "metadata": {},
   "outputs": [
    {
     "data": {
      "text/plain": [
       "[13987.8, 15153.39, 46625.77, 45460.18]"
      ]
     },
     "execution_count": 14,
     "metadata": {},
     "output_type": "execute_result"
    }
   ],
   "source": [
    "def exchange(p):\n",
    "    p = float(p)\n",
    "    p =  round(eur * p, 2)\n",
    "    return p\n",
    "list(map(exchange, listNT))"
   ]
  },
  {
   "cell_type": "markdown",
   "metadata": {},
   "source": [
    "## Lambda"
   ]
  },
  {
   "cell_type": "code",
   "execution_count": 20,
   "metadata": {},
   "outputs": [
    {
     "name": "stdout",
     "output_type": "stream",
     "text": [
      "Lambda\n"
     ]
    },
    {
     "data": {
      "text/plain": [
       "[13987.8, 15153.39, 46625.77, 45460.18]"
      ]
     },
     "execution_count": 20,
     "metadata": {},
     "output_type": "execute_result"
    }
   ],
   "source": [
    "def f(x):\n",
    "    return x**2\n",
    "\n",
    "print(\"Lambda\")\n",
    "g = lambda x: x**2\n",
    "g(3)\n",
    "list(map(lambda p:round(float(p)*eur, 2), listNT))"
   ]
  },
  {
   "cell_type": "code",
   "execution_count": 22,
   "metadata": {},
   "outputs": [
    {
     "data": {
      "text/plain": [
       "[19, 9, 17, 15]"
      ]
     },
     "execution_count": 22,
     "metadata": {},
     "output_type": "execute_result"
    }
   ],
   "source": [
    "calculate = [9, 4, 8, 7]\n",
    "list(map(lambda x: 2 * x + 1, calculate))"
   ]
  },
  {
   "cell_type": "code",
   "execution_count": 25,
   "metadata": {},
   "outputs": [
    {
     "data": {
      "text/plain": [
       "[68.55654600401044, 74.83314773547883, 77.45966692414834, 86.60254037844388]"
      ]
     },
     "execution_count": 25,
     "metadata": {},
     "output_type": "execute_result"
    }
   ],
   "source": [
    "grades = [47, 56, 60, 75]\n",
    "list(map(lambda g: np.sqrt(g)*10, grades))"
   ]
  },
  {
   "cell_type": "markdown",
   "metadata": {},
   "source": [
    "## list comprehension"
   ]
  },
  {
   "cell_type": "code",
   "execution_count": 26,
   "metadata": {},
   "outputs": [
    {
     "data": {
      "text/plain": [
       "[13987.80028669, 15153.393407968, 46625.77334518201, 45460.180223904004]"
      ]
     },
     "execution_count": 26,
     "metadata": {},
     "output_type": "execute_result"
    }
   ],
   "source": [
    "[float(p)*eur for p in listNT]"
   ]
  },
  {
   "cell_type": "code",
   "execution_count": 12,
   "metadata": {},
   "outputs": [
    {
     "name": "stdout",
     "output_type": "stream",
     "text": [
      "用取到-1，不印出'，' 333,444,555,666\n",
      "用strip，不印出'，' 333,444,555,666\n",
      "用join，不印出'，' 333 444 555 666\n"
     ]
    }
   ],
   "source": [
    "L = [\"333\", \"444\", \"555\", \"666\"]\n",
    "s = \"\"\n",
    "for i in L:\n",
    "    s = s + i + \",\"\n",
    "print(\"用取到-1，不印出'，'\", s[:-1])\n",
    "s = s.strip(\",\")\n",
    "print(\"用strip，不印出'，'\", s)\n",
    "j = \" \".join(L)\n",
    "print(\"用join，不印出'，'\", j)"
   ]
  },
  {
   "cell_type": "markdown",
   "metadata": {},
   "source": [
    "## 物件中的method"
   ]
  },
  {
   "cell_type": "code",
   "execution_count": 45,
   "metadata": {},
   "outputs": [
    {
     "name": "stdout",
     "output_type": "stream",
     "text": [
      "sortListCopy:  [12, 39, 40, 14, 80]\n",
      "[12, 14, 39, 40, 80]\n"
     ]
    }
   ],
   "source": [
    "sortList = [12, 39, 40, 14, 80]\n",
    "sortListCopy = sortList.copy()\n",
    "print(\"sortListCopy: \", sortListCopy)\n",
    "sortList.sort()\n",
    "print(sortList)"
   ]
  },
  {
   "cell_type": "code",
   "execution_count": 54,
   "metadata": {},
   "outputs": [
    {
     "name": "stdout",
     "output_type": "stream",
     "text": [
      "氣\n",
      "今天天\n",
      "好很氣天天今\n"
     ]
    }
   ],
   "source": [
    "weather = \"今天天氣很好\"\n",
    "print(weather[3])\n",
    "print(weather[:3])\n",
    "print(weather[::-1])"
   ]
  },
  {
   "cell_type": "code",
   "execution_count": 10,
   "metadata": {},
   "outputs": [
    {
     "data": {
      "application/vnd.jupyter.widget-view+json": {
       "model_id": "b72dc6e470de4ab9bace353cb22d245f",
       "version_major": 2,
       "version_minor": 0
      },
      "text/plain": [
       "interactive(children=(IntSlider(value=1, description='n', max=40, min=1), Output()), _dom_classes=('widget-int…"
      ]
     },
     "metadata": {},
     "output_type": "display_data"
    },
    {
     "data": {
      "text/plain": [
       "<function __main__.move(n=1)>"
      ]
     },
     "execution_count": 10,
     "metadata": {},
     "output_type": "execute_result"
    }
   ],
   "source": [
    "from ipywidgets import interact\n",
    "def move(n = 1):\n",
    "    print(\" \"*n, \"a\", \" \"*(80-2*n), \"b\")\n",
    "interact(move, n = (1, 40))\n"
   ]
  },
  {
   "cell_type": "code",
   "execution_count": 30,
   "metadata": {},
   "outputs": [
    {
     "name": "stdout",
     "output_type": "stream",
     "text": [
      "請輸入餐點及數量: 鮮肉餛飩麵 2 菜肉餛飩麵 1\n",
      "鮮肉餛飩麵 $: 55 份數: 2\n",
      "菜肉餛飩麵 $: 60 份數: 1\n",
      "總金額:$ 170\n",
      "收$:200\n",
      "收$: 200 找錢$: 30\n"
     ]
    }
   ],
   "source": [
    "menu = {\"鮮肉餛飩湯\": 50, \"菜肉餛飩湯\":55, \"蝦肉餛飩湯\":60, \"紫菜三絲湯\": 40,\n",
    "        \"鮮肉餛飩麵\": 55, \"菜肉餛飩麵\":60, \"蝦肉餛飩麵\":65, \"鮮肉餛飩麵\": 55, \n",
    "        \"榨菜肉絲麵\":50, \"乾拌麵\":40, \"麻醬麵\": 40, \"炸醬麵\":40, \"溫州涼麵\":40,\n",
    "        \"香辣麵\":50, \"溫州抄手麵\":70, \"菜肉抄手麵\":75, \"鮮蝦抄手麵\":80}\n",
    "food = input(\"請輸入餐點及數量: \")\n",
    "food = food.split()\n",
    "price = 0\n",
    "for a in range(len(food)):\n",
    "    if food[a] in menu.keys():\n",
    "        print(food[a], \"$:\", menu[food[a]], \"份數:\", food[a+1])\n",
    "        price += menu[food[a]] * int(food[a+1])\n",
    "print(\"總金額:$\", price)\n",
    "money = input(\"收$:\")\n",
    "change = int(money) - price\n",
    "print(\"收$:\", money, \"找錢$:\", change)"
   ]
  },
  {
   "cell_type": "code",
   "execution_count": 9,
   "metadata": {},
   "outputs": [
    {
     "name": "stdout",
     "output_type": "stream",
     "text": [
      "輸入一個正整數: 10\n",
      "第 10 個數字為 55\n"
     ]
    }
   ],
   "source": [
    "#Fibonacci\n",
    "a1, a2 = 1, 1\n",
    "raw = [a1, a2]\n",
    "n = int(input(\"輸入一個正整數: \"))\n",
    "for i in range(n):\n",
    "    raw.append(raw[i] + raw[i+1])\n",
    "print(\"第\", n, \"個數字為\", raw[n - 1])"
   ]
  },
  {
   "cell_type": "code",
   "execution_count": 2,
   "metadata": {},
   "outputs": [
    {
     "name": "stdout",
     "output_type": "stream",
     "text": [
      "[['mop the floor'], ['sweep the floor'], ['do the laudry'], ['cook']]\n"
     ]
    }
   ],
   "source": [
    "import random\n",
    "housework = [\"cook\", \"mop the floor\", \"sweep the floor\", \"do the laudry\"]\n",
    "family = []\n",
    "for i in range(4):\n",
    "    each = []\n",
    "    for i in range(1):\n",
    "        n = random.randint(0, len(housework)-1)\n",
    "        each.append(housework[n])\n",
    "        housework.remove(housework[n])\n",
    "    family.append(each)\n",
    "print(family)"
   ]
  },
  {
   "cell_type": "code",
   "execution_count": 8,
   "metadata": {},
   "outputs": [
    {
     "data": {
      "text/plain": [
       "[<matplotlib.lines.Line2D at 0x1208d4828>]"
      ]
     },
     "execution_count": 8,
     "metadata": {},
     "output_type": "execute_result"
    },
    {
     "data": {
      "image/png": "[encoded data removed]",
      "text/plain": [
       "<Figure size 432x288 with 1 Axes>"
      ]
     },
     "metadata": {
      "needs_background": "light"
     },
     "output_type": "display_data"
    }
   ],
   "source": [
    "%matplotlib inline\n",
    "import numpy as np\n",
    "import matplotlib.pyplot as plt\n",
    "sales = [5, 6, 6.3, 7, 7, 8, 11, 13, 8, 9, 6, 5.5]\n",
    "months = [\"1\", \"2\", \"3\", \"4\", \"5\", \"6\", \"7\", \"8\", \"9\", \"10\", \"11\", \"12\"]\n",
    "plt.xlabel(\"Months\")\n",
    "plt.ylabel(\"Sales($ million)\")\n",
    "plt.plot(months, sales)"
   ]
  },
  {
   "cell_type": "code",
   "execution_count": null,
   "metadata": {},
   "outputs": [],
   "source": []
  }
 ],
 "metadata": {
  "kernelspec": {
   "display_name": "Python 3",
   "language": "python",
   "name": "python3"
  },
  "language_info": {
   "codemirror_mode": {
    "name": "ipython",
    "version": 3
   },
   "file_extension": ".py",
   "mimetype": "text/x-python",
   "name": "python",
   "nbconvert_exporter": "python",
   "pygments_lexer": "ipython3",
   "version": "3.7.1"
  }
 },
 "nbformat": 4,
 "nbformat_minor": 2
}
