{
 "cells": [
  {
   "cell_type": "markdown",
   "metadata": {},
   "source": [
    "## 查看存貨"
   ]
  },
  {
   "cell_type": "code",
   "execution_count": null,
   "metadata": {},
   "outputs": [
    {
     "name": "stdout",
     "output_type": "stream",
     "text": [
      "Order quantity Q 100\n",
      "Reorder point R: 40\n",
      " initial inventory I:50\n",
      "Inventory: 50\n",
      "Sales in a day: 30\n",
      "Order!!!\n",
      "Inventory: 120\n",
      "Sales in a day: 40\n",
      "Inventory: 80\n",
      "Sales in a day: 70\n",
      "Order!!!\n",
      "Inventory: 110\n",
      "Sales in a day: 110\n",
      "Order!!!\n",
      "Inventory: 100\n"
     ]
    }
   ],
   "source": [
    "Q = int(input(\"Order quantity Q \"))\n",
    "R = int(input(\"Reorder point R: \"))\n",
    "I = int(input(\" initial inventory I:\"))\n",
    "print(\"Inventory:\", str(I))\n",
    "\n",
    "while True:\n",
    "    sales = int(input(\"Sales in a day: \"))\n",
    "    if I - sales >= 0:\n",
    "        I = I -sales\n",
    "    else:\n",
    "        I = 0\n",
    "    if I < R:\n",
    "        print(\"Order!!!\")\n",
    "        I = I + Q\n",
    "    print(\"Inventory:\" ,str(I))"
   ]
  },
  {
   "cell_type": "code",
   "execution_count": 35,
   "metadata": {},
   "outputs": [],
   "source": []
  }
 ],
 "metadata": {
  "kernelspec": {
   "display_name": "Python 3",
   "language": "python",
   "name": "python3"
  },
  "language_info": {
   "codemirror_mode": {
    "name": "ipython",
    "version": 3
   },
   "file_extension": ".py",
   "mimetype": "text/x-python",
   "name": "python",
   "nbconvert_exporter": "python",
   "pygments_lexer": "ipython3",
   "version": "3.7.1"
  }
 },
 "nbformat": 4,
 "nbformat_minor": 2
}
