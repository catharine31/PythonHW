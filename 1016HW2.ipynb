{
 "cells": [
  {
   "cell_type": "code",
   "execution_count": 25,
   "metadata": {},
   "outputs": [
    {
     "name": "stdout",
     "output_type": "stream",
     "text": [
      "1: Chinese on Monday morning\n",
      "         2: Math in Monday afternoon\n",
      "         3: English on Tuesday morning\n",
      "         4: Chemistry in Tuesday afternoon\n",
      "         5: Physics on Wednesday morning\n",
      "         6: PE class in Wednesday afternoon\n",
      "         7: Finance on Thursday morning\n",
      "         8: History in Thursday afternoon\n",
      "         9: Programming on Friday morning\n",
      "請輸入你想選課的代碼（以空白間隔開）：1 4 9 10\n",
      "MondayMorning：Chinese\n",
      "TuesdayAfternoon：Chemistry\n",
      "FridayMorning：Programming\n",
      "10 is invalid value\n"
     ]
    }
   ],
   "source": [
    "course = {'1': ['MondayMorning', 'Chinese'], '2': ['MondayAfternoon', 'Math'], '3': ['TuesdayMorning', 'English'],\n",
    "              '4': ['TuesdayAfternoon', 'Chemistry'], '5': ['WednesdayMorning', 'Physics'],\n",
    "              '6': ['WednesdayAfternoon', 'PE class'],'7': ['ThursdayMorning', 'Finance'], \n",
    "              '8': ['ThursdayAfternoon', 'History'], '9': ['FridayMorning', 'Programming']}\n",
    "print(\"1: Chinese on Monday morning\\n \\\n",
    "        2: Math in Monday afternoon\\n \\\n",
    "        3: English on Tuesday morning\\n \\\n",
    "        4: Chemistry in Tuesday afternoon\\n \\\n",
    "        5: Physics on Wednesday morning\\n \\\n",
    "        6: PE class in Wednesday afternoon\\n \\\n",
    "        7: Finance on Thursday morning\\n \\\n",
    "        8: History in Thursday afternoon\\n \\\n",
    "        9: Programming on Friday morning\")\n",
    "choice = input('請輸入你想選課的代碼（以空白間隔開）：')\n",
    "choiceList = choice.split()\n",
    "for i in choiceList:\n",
    "    if int(i) in range(1, 10):\n",
    "        print(\"：\".join(course[i]))\n",
    "    else:\n",
    "        print(i, \"is invalid value\")"
   ]
  },
  {
   "cell_type": "code",
   "execution_count": null,
   "metadata": {},
   "outputs": [],
   "source": []
  }
 ],
 "metadata": {
  "kernelspec": {
   "display_name": "Python 3",
   "language": "python",
   "name": "python3"
  }
 },
 "nbformat": 4,
 "nbformat_minor": 2
}
