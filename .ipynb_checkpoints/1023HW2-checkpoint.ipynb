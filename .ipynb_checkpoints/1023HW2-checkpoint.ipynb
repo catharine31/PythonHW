{
 "cells": [
  {
   "cell_type": "code",
   "execution_count": 13,
   "metadata": {},
   "outputs": [],
   "source": [
    "%matplotlib inline\n",
    "import numpy as np\n",
    "import matplotlib.pyplot as plt\n",
    "import pandas as pd"
   ]
  },
  {
   "cell_type": "markdown",
   "metadata": {},
   "source": [
    "## 身分證驗證"
   ]
  },
  {
   "cell_type": "code",
   "execution_count": 46,
   "metadata": {},
   "outputs": [
    {
     "name": "stdout",
     "output_type": "stream",
     "text": [
      "輸入身分證F230053302\n"
     ]
    },
    {
     "ename": "UnboundLocalError",
     "evalue": "local variable 'numList' referenced before assignment",
     "output_type": "error",
     "traceback": [
      "\u001b[0;31m---------------------------------------------------------------------------\u001b[0m",
      "\u001b[0;31mUnboundLocalError\u001b[0m                         Traceback (most recent call last)",
      "\u001b[0;32m<ipython-input-46-494adbf9730f>\u001b[0m in \u001b[0;36m<module>\u001b[0;34m\u001b[0m\n\u001b[1;32m     66\u001b[0m     \u001b[0;32melse\u001b[0m\u001b[0;34m:\u001b[0m\u001b[0;34m\u001b[0m\u001b[0;34m\u001b[0m\u001b[0m\n\u001b[1;32m     67\u001b[0m         \u001b[0mprint\u001b[0m\u001b[0;34m(\u001b[0m\u001b[0;34m\"invalid ID\"\u001b[0m\u001b[0;34m)\u001b[0m\u001b[0;34m\u001b[0m\u001b[0;34m\u001b[0m\u001b[0m\n\u001b[0;32m---> 68\u001b[0;31m \u001b[0mverify\u001b[0m\u001b[0;34m(\u001b[0m\u001b[0mID\u001b[0m\u001b[0;34m)\u001b[0m\u001b[0;34m\u001b[0m\u001b[0;34m\u001b[0m\u001b[0m\n\u001b[0m",
      "\u001b[0;32m<ipython-input-46-494adbf9730f>\u001b[0m in \u001b[0;36mverify\u001b[0;34m(ID)\u001b[0m\n\u001b[1;32m      7\u001b[0m         \u001b[0;32mif\u001b[0m \u001b[0mlen\u001b[0m\u001b[0;34m(\u001b[0m\u001b[0mID\u001b[0m\u001b[0;34m[\u001b[0m\u001b[0;36m1\u001b[0m\u001b[0;34m:\u001b[0m\u001b[0;34m]\u001b[0m\u001b[0;34m)\u001b[0m \u001b[0;34m==\u001b[0m \u001b[0;36m9\u001b[0m\u001b[0;34m:\u001b[0m\u001b[0;34m\u001b[0m\u001b[0;34m\u001b[0m\u001b[0m\n\u001b[1;32m      8\u001b[0m             \u001b[0;32mfor\u001b[0m \u001b[0mi\u001b[0m \u001b[0;32min\u001b[0m \u001b[0mrange\u001b[0m\u001b[0;34m(\u001b[0m\u001b[0mlen\u001b[0m\u001b[0;34m(\u001b[0m\u001b[0mID\u001b[0m\u001b[0;34m[\u001b[0m\u001b[0;36m1\u001b[0m\u001b[0;34m:\u001b[0m\u001b[0;34m]\u001b[0m\u001b[0;34m)\u001b[0m\u001b[0;34m)\u001b[0m\u001b[0;34m:\u001b[0m\u001b[0;34m\u001b[0m\u001b[0;34m\u001b[0m\u001b[0m\n\u001b[0;32m----> 9\u001b[0;31m                 \u001b[0mnumList\u001b[0m\u001b[0;34m.\u001b[0m\u001b[0mappend\u001b[0m\u001b[0;34m(\u001b[0m\u001b[0mID\u001b[0m\u001b[0;34m[\u001b[0m\u001b[0;36m1\u001b[0m\u001b[0;34m:\u001b[0m\u001b[0;34m]\u001b[0m\u001b[0;34m[\u001b[0m\u001b[0mi\u001b[0m\u001b[0;34m]\u001b[0m\u001b[0;34m)\u001b[0m\u001b[0;34m\u001b[0m\u001b[0;34m\u001b[0m\u001b[0m\n\u001b[0m\u001b[1;32m     10\u001b[0m             \u001b[0mnumList\u001b[0m \u001b[0;34m=\u001b[0m \u001b[0mlist\u001b[0m\u001b[0;34m(\u001b[0m\u001b[0mmap\u001b[0m\u001b[0;34m(\u001b[0m\u001b[0mint\u001b[0m\u001b[0;34m,\u001b[0m \u001b[0mnumList\u001b[0m\u001b[0;34m)\u001b[0m\u001b[0;34m)\u001b[0m\u001b[0;34m\u001b[0m\u001b[0;34m\u001b[0m\u001b[0m\n\u001b[1;32m     11\u001b[0m             \u001b[0mnumberArray\u001b[0m \u001b[0;34m=\u001b[0m \u001b[0mnp\u001b[0m\u001b[0;34m.\u001b[0m\u001b[0marray\u001b[0m\u001b[0;34m(\u001b[0m\u001b[0mnumList\u001b[0m\u001b[0;34m)\u001b[0m \u001b[0;34m*\u001b[0m \u001b[0;34m[\u001b[0m\u001b[0;36m8\u001b[0m\u001b[0;34m,\u001b[0m \u001b[0;36m7\u001b[0m\u001b[0;34m,\u001b[0m \u001b[0;36m6\u001b[0m\u001b[0;34m,\u001b[0m \u001b[0;36m5\u001b[0m\u001b[0;34m,\u001b[0m \u001b[0;36m4\u001b[0m\u001b[0;34m,\u001b[0m \u001b[0;36m3\u001b[0m\u001b[0;34m,\u001b[0m \u001b[0;36m2\u001b[0m\u001b[0;34m,\u001b[0m \u001b[0;36m1\u001b[0m\u001b[0;34m,\u001b[0m \u001b[0;36m1\u001b[0m\u001b[0;34m]\u001b[0m\u001b[0;34m\u001b[0m\u001b[0;34m\u001b[0m\u001b[0m\n",
      "\u001b[0;31mUnboundLocalError\u001b[0m: local variable 'numList' referenced before assignment"
     ]
    }
   ],
   "source": [
    "ID = input(\"輸入身分證\")\n",
    "\n",
    "def verify(ID):\n",
    "    n1 = 0\n",
    "    n2 = 0\n",
    "    numList = []\n",
    "    if ID[0] in ['A', 'B', 'C', 'D', 'E', 'F', 'G', 'H', 'I', 'J', 'K', 'M', 'N', 'O', 'P', 'Q', 'T', 'U', 'V', 'W', 'X', 'Z']:\n",
    "        if len(ID[1:]) == 9:\n",
    "            for i in range(len(ID[1:])):\n",
    "                numList.append(ID[1:][i])\n",
    "            numList = list(map(int, numList))\n",
    "            numberArray = np.array(numList) * [8, 7, 6, 5, 4, 3, 2, 1, 1]\n",
    "            numTotal = sum(numberArray)\n",
    "            if ID[0] == 'A':\n",
    "                n1, n2 = 1, 0\n",
    "            elif ID[0] == 'B':\n",
    "                n1, n2 = 1, 1\n",
    "            elif ID[0] == 'C':\n",
    "                n1, n2 = 1, 2\n",
    "            elif ID[0] == 'D':\n",
    "                n1, n2 = 1, 3\n",
    "            elif ID[0] == 'E':\n",
    "                n1, n2 = 1, 4\n",
    "            elif ID[0] == 'F':\n",
    "                n1, n2 = 1, 5\n",
    "            elif ID[0] == 'G':\n",
    "                n1, n2 = 1, 6\n",
    "            elif ID[0] == 'H':\n",
    "                n1, n2 = 1, 7\n",
    "            elif ID[0] == 'I':\n",
    "                n1, n2 = 3, 4\n",
    "            elif ID[0] == 'J':\n",
    "                n1, n2 = 1, 8\n",
    "            elif ID[0] == 'K':\n",
    "                n1, n2 = 1, 9\n",
    "            elif ID[0] == 'M':\n",
    "                n1, n2 = 2, 1\n",
    "            elif ID[0] == 'N':\n",
    "                n1, n2 = 2, 2\n",
    "            elif ID[0] == 'O':\n",
    "                n1, n2 = 3, 5\n",
    "            elif ID[0] == 'P':\n",
    "                n1, n2 = 2, 3\n",
    "            elif ID[0] == 'Q':\n",
    "                n1, n2 = 2, 4\n",
    "            elif ID[0] == 'T':\n",
    "                n1, n2 = 2, 7\n",
    "            elif ID[0] == 'U':\n",
    "                n1, n2 = 2, 8\n",
    "            elif ID[0] == 'V':\n",
    "                n1, n2 = 2, 9\n",
    "            elif ID[0] == 'X':\n",
    "                n1, n2 = 3, 0\n",
    "            elif ID[0] == 'W':\n",
    "                n1, n2 = 3, 2\n",
    "            elif ID[0] == 'Z':\n",
    "                n1, n2 = 3, 3\n",
    "            else:\n",
    "                print(\"invalid input\")\n",
    "        else:\n",
    "                print(\"invalid input\")\n",
    "    else:\n",
    "        print(\"invalid input\")\n",
    "    IDTotal = n1 + 9 * 1 + numTotal\n",
    "    if IDTotal % 10 == 0:\n",
    "        print(\"valid ID\")\n",
    "    else:\n",
    "        print(\"invalid ID\")\n",
    "verify(ID)"
   ]
  },
  {
   "cell_type": "code",
   "execution_count": null,
   "metadata": {},
   "outputs": [],
   "source": []
  },
  {
   "cell_type": "code",
   "execution_count": null,
   "metadata": {},
   "outputs": [],
   "source": []
  }
 ],
 "metadata": {
  "kernelspec": {
   "display_name": "Python 3",
   "language": "python",
   "name": "python3"
  },
  "language_info": {
   "codemirror_mode": {
    "name": "ipython",
    "version": 3
   },
   "file_extension": ".py",
   "mimetype": "text/x-python",
   "name": "python",
   "nbconvert_exporter": "python",
   "pygments_lexer": "ipython3",
   "version": "3.7.1"
  }
 },
 "nbformat": 4,
 "nbformat_minor": 2
}
