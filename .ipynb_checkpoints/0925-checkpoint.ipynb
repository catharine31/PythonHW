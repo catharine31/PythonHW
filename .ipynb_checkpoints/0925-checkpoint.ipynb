{
 "cells": [
  {
   "cell_type": "code",
   "execution_count": 31,
   "metadata": {},
   "outputs": [],
   "source": [
    "%matplotlib inline\n",
    "import numpy as np\n",
    "import matplotlib.pyplot as plt\n",
    "import pandas as pd\n"
   ]
  },
  {
   "cell_type": "code",
   "execution_count": 2,
   "metadata": {},
   "outputs": [
    {
     "data": {
      "text/plain": [
       "[1, 3, 5, 7, 9]"
      ]
     },
     "execution_count": 2,
     "metadata": {},
     "output_type": "execute_result"
    }
   ],
   "source": [
    "list(range(1, 11, 2))"
   ]
  },
  {
   "cell_type": "code",
   "execution_count": 32,
   "metadata": {},
   "outputs": [
    {
     "name": "stdout",
     "output_type": "stream",
     "text": [
      "1 2 3 4 5 \n",
      "1加到100: 5050\n"
     ]
    }
   ],
   "source": [
    "[x **2 for x in range(1, 11)]\n",
    "for i in range(1, 6):\n",
    "    print(i, end = \" \")\n",
    "print()\n",
    "s = 0\n",
    "for i in range(1, 101):\n",
    "    s += i\n",
    "print(\"1加到100:\", s)"
   ]
  },
  {
   "cell_type": "code",
   "execution_count": 7,
   "metadata": {},
   "outputs": [
    {
     "name": "stdout",
     "output_type": "stream",
     "text": [
      "[34960.97, 13622.49, 682831.35]\n"
     ]
    }
   ],
   "source": [
    "price = [1024, 399, 20000]\n",
    "L = list()\n",
    "eur = 34.1415677\n",
    "for p in price:\n",
    "    L.append(round(eur * p, 2))\n",
    "print(L)"
   ]
  },
  {
   "cell_type": "code",
   "execution_count": 9,
   "metadata": {},
   "outputs": [
    {
     "name": "stdout",
     "output_type": "stream",
     "text": [
      "輸入你要買的東西的價格：10,20,30,40,50\n",
      "[341.42, 682.83, 1024.25, 1365.66, 1707.08]\n"
     ]
    }
   ],
   "source": [
    "price = input(\"輸入你要買的東西的價格：\")\n",
    "price =  price.split(\",\")\n",
    "listNT = list()\n",
    "for p in price:\n",
    "    p = float(p)\n",
    "    p =  round(eur * p, 2)\n",
    "    listNT.append(p)\n",
    "    print(\"價格\", p, \"台幣\")\n",
    "print(listNT)"
   ]
  },
  {
   "cell_type": "code",
   "execution_count": null,
   "metadata": {},
   "outputs": [],
   "source": []
  }
 ],
 "metadata": {
  "kernelspec": {
   "display_name": "Python 3",
   "language": "python",
   "name": "python3"
  },
  "language_info": {
   "codemirror_mode": {
    "name": "ipython",
    "version": 3
   },
   "file_extension": ".py",
   "mimetype": "text/x-python",
   "name": "python",
   "nbconvert_exporter": "python",
   "pygments_lexer": "ipython3",
   "version": "3.7.1"
  }
 },
 "nbformat": 4,
 "nbformat_minor": 2
}
