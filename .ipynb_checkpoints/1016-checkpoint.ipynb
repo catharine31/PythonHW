{
 "cells": [
  {
   "cell_type": "code",
   "execution_count": 53,
   "metadata": {},
   "outputs": [],
   "source": [
    "%matplotlib inline\n",
    "import numpy as np\n",
    "import matplotlib.pyplot as plt\n",
    "import pandas as pd\n",
    "from numpy.random import randint"
   ]
  },
  {
   "cell_type": "code",
   "execution_count": 2,
   "metadata": {},
   "outputs": [
    {
     "name": "stdout",
     "output_type": "stream",
     "text": [
      "拍拍\n"
     ]
    }
   ],
   "source": [
    "str = \"拍拍\"\n",
    "print(str)"
   ]
  },
  {
   "cell_type": "code",
   "execution_count": 4,
   "metadata": {},
   "outputs": [
    {
     "data": {
      "text/plain": [
       "2"
      ]
     },
     "execution_count": 4,
     "metadata": {},
     "output_type": "execute_result"
    }
   ],
   "source": [
    "str.count(\"拍\")"
   ]
  },
  {
   "cell_type": "code",
   "execution_count": 21,
   "metadata": {},
   "outputs": [],
   "source": [
    "class Card:\n",
    "    rank = 3\n",
    "    suit = 5"
   ]
  },
  {
   "cell_type": "code",
   "execution_count": 22,
   "metadata": {},
   "outputs": [],
   "source": [
    "card01 = Card()\n",
    "card02 = Card()"
   ]
  },
  {
   "cell_type": "code",
   "execution_count": 23,
   "metadata": {},
   "outputs": [
    {
     "data": {
      "text/plain": [
       "5"
      ]
     },
     "execution_count": 23,
     "metadata": {},
     "output_type": "execute_result"
    }
   ],
   "source": [
    "# card01.rank\n",
    "card01.suit"
   ]
  },
  {
   "cell_type": "code",
   "execution_count": 40,
   "metadata": {},
   "outputs": [
    {
     "data": {
      "text/plain": [
       "12"
      ]
     },
     "execution_count": 40,
     "metadata": {},
     "output_type": "execute_result"
    }
   ],
   "source": [
    "class Card:\n",
    "    def __init__(self, rank = 0, suit = 0):\n",
    "        self.rank = rank\n",
    "        self. suit = suit\n",
    "class03 = Card(12, 23)\n",
    "class03.rank"
   ]
  },
  {
   "cell_type": "code",
   "execution_count": 52,
   "metadata": {},
   "outputs": [
    {
     "name": "stdout",
     "output_type": "stream",
     "text": [
      "♥︎4\n"
     ]
    }
   ],
   "source": [
    "class Card:\n",
    "    \n",
    "    SUITS = [\"♠︎\", \"♥︎\", \"♦︎\", \"♣︎\"]\n",
    "    RANK = [\"A\", \"2\", \"3\", \"4\", \"5\", \"6\", \"7\", \"8\", \"9\", \"10\", \"J\", \"Q\", \"K\"]\n",
    "\n",
    "    def __init__(self, s, r):\n",
    "        self.s = s\n",
    "        self.r = r\n",
    "    \n",
    "#     def show(self):\n",
    "#         theCard = self.SUITS[self.s] + self.RANK[self.r]\n",
    "#         print(theCard)\n",
    "\n",
    "    def __repr__(self):\n",
    "        theCard = self.SUITS[self.s] + self.RANK[self.r]\n",
    "        return theCard\n",
    "myCard = Card(1, 3)\n",
    "print(myCard)"
   ]
  },
  {
   "cell_type": "markdown",
   "metadata": {},
   "source": [
    "## Python 的檔案功能"
   ]
  },
  {
   "cell_type": "code",
   "execution_count": 221,
   "metadata": {},
   "outputs": [
    {
     "name": "stdout",
     "output_type": "stream",
     "text": [
      "apple,蘋果\n",
      "orange,橘子\n",
      "banana,香蕉\n"
     ]
    }
   ],
   "source": [
    "myDictionary = {'apple': '蘋果', 'orange': '橘子', 'banana': '香蕉'}\n",
    "myDictionary.items()\n",
    "myDictionary.keys()\n",
    "myDictionary.values()\n",
    "for eng in myDictionary.keys():\n",
    "    print(eng + \",\" + myDictionary[eng])\n",
    "    "
   ]
  },
  {
   "cell_type": "markdown",
   "metadata": {},
   "source": [
    "## 存檔"
   ]
  },
  {
   "cell_type": "code",
   "execution_count": 222,
   "metadata": {},
   "outputs": [],
   "source": [
    "#寫檔案，'w'\n",
    "f = open('myDictionary.csv', 'w')"
   ]
  },
  {
   "cell_type": "code",
   "execution_count": 223,
   "metadata": {},
   "outputs": [],
   "source": [
    "for eng in myDictionary.keys():\n",
    "    print(eng + \",\" + myDictionary[eng], file=f)"
   ]
  },
  {
   "cell_type": "code",
   "execution_count": 224,
   "metadata": {},
   "outputs": [],
   "source": [
    "f.close()"
   ]
  },
  {
   "cell_type": "code",
   "execution_count": 225,
   "metadata": {},
   "outputs": [
    {
     "name": "stdout",
     "output_type": "stream",
     "text": [
      "0911.ipynb                 106306020_第一週.ipynb\r\n",
      "0918.ipynb                 IMG_6662.jpeg\r\n",
      "0925.ipynb                 README.md\r\n",
      "1002.ipynb                 myDictionary.csv\r\n",
      "1002HW.ipynb               myDictionary.pickle\r\n",
      "1009.ipynb                 poem.py\r\n",
      "1009HW.ipynb               save_poem&terminal.png\r\n",
      "1016.ipynb                 text. txt\r\n",
      "1016HW.ipynb\r\n"
     ]
    }
   ],
   "source": [
    "%ls"
   ]
  },
  {
   "cell_type": "code",
   "execution_count": 226,
   "metadata": {},
   "outputs": [
    {
     "name": "stdout",
     "output_type": "stream",
     "text": [
      "apple,蘋果\r\n",
      "orange,橘子\r\n",
      "banana,香蕉\r\n"
     ]
    }
   ],
   "source": [
    "%cat myDictionary.csv"
   ]
  },
  {
   "cell_type": "code",
   "execution_count": 227,
   "metadata": {},
   "outputs": [],
   "source": [
    "openF = open(\"myDictionary.csv\", \"r\")\n",
    "myData = openF.readlines()\n",
    "openF.close()"
   ]
  },
  {
   "cell_type": "code",
   "execution_count": 228,
   "metadata": {},
   "outputs": [
    {
     "data": {
      "text/plain": [
       "['apple,蘋果\\n', 'orange,橘子\\n', 'banana,香蕉\\n']"
      ]
     },
     "execution_count": 228,
     "metadata": {},
     "output_type": "execute_result"
    }
   ],
   "source": [
    "myData"
   ]
  },
  {
   "cell_type": "code",
   "execution_count": 229,
   "metadata": {},
   "outputs": [
    {
     "name": "stdout",
     "output_type": "stream",
     "text": [
      "{'apple': '蘋果', 'orange': '橘子', 'banana': '香蕉'}\n"
     ]
    }
   ],
   "source": [
    "newDic = {}\n",
    "for line in myData:\n",
    "    newLine = line.strip('\\n')\n",
    "    myList = newLine.split(',')\n",
    "    english, chinese = myList\n",
    "    newDic[english] = chinese\n",
    "print(newDic)"
   ]
  },
  {
   "cell_type": "markdown",
   "metadata": {},
   "source": [
    "## Python 的 Pickle 存取法 (存任何你想存的東西)"
   ]
  },
  {
   "cell_type": "code",
   "execution_count": 17,
   "metadata": {},
   "outputs": [],
   "source": [
    "import pickle"
   ]
  },
  {
   "cell_type": "code",
   "execution_count": 231,
   "metadata": {},
   "outputs": [],
   "source": [
    "#wb存二進位檔，不只是純文字檔，他還可以存其他需要的東西\n",
    "f = open(\"myDictionary.pickle\", \"wb\")\n",
    "#pickle.dump(myDictionary, f)丟進f這個檔案裡\n",
    "pickle.dump(myDictionary, f)\n",
    "f.close()"
   ]
  },
  {
   "cell_type": "code",
   "execution_count": 232,
   "metadata": {},
   "outputs": [
    {
     "name": "stdout",
     "output_type": "stream",
     "text": [
      "0911.ipynb                 106306020_第一週.ipynb\r\n",
      "0918.ipynb                 IMG_6662.jpeg\r\n",
      "0925.ipynb                 README.md\r\n",
      "1002.ipynb                 myDictionary.csv\r\n",
      "1002HW.ipynb               myDictionary.pickle\r\n",
      "1009.ipynb                 poem.py\r\n",
      "1009HW.ipynb               save_poem&terminal.png\r\n",
      "1016.ipynb                 text. txt\r\n",
      "1016HW.ipynb\r\n"
     ]
    }
   ],
   "source": [
    "%ls"
   ]
  },
  {
   "cell_type": "code",
   "execution_count": 233,
   "metadata": {},
   "outputs": [],
   "source": [
    "f = open('myDictionary.pickle', 'rb')\n",
    "#pickle.load(f)，讀回f檔\n",
    "myPickleData = pickle.load(f)\n",
    "f.close()"
   ]
  },
  {
   "cell_type": "code",
   "execution_count": 234,
   "metadata": {},
   "outputs": [
    {
     "data": {
      "text/plain": [
       "{'apple': '蘋果', 'orange': '橘子', 'banana': '香蕉'}"
      ]
     },
     "execution_count": 234,
     "metadata": {},
     "output_type": "execute_result"
    }
   ],
   "source": [
    "myPickleData"
   ]
  },
  {
   "cell_type": "markdown",
   "metadata": {},
   "source": [
    "## 隨意弄個檔案"
   ]
  },
  {
   "cell_type": "code",
   "execution_count": 25,
   "metadata": {},
   "outputs": [
    {
     "name": "stdout",
     "output_type": "stream",
     "text": [
      "Overwriting test.txt\n"
     ]
    }
   ],
   "source": [
    "%%writefile 'test.txt'\n",
    "天空 小雨\n",
    "雲 風     隨便 沒詞了"
   ]
  },
  {
   "cell_type": "code",
   "execution_count": 26,
   "metadata": {},
   "outputs": [
    {
     "name": "stdout",
     "output_type": "stream",
     "text": [
      "0911.ipynb                 IMG_6662.jpeg\r\n",
      "0918.ipynb                 README.md\r\n",
      "0925.ipynb                 engtest. txt\r\n",
      "1002.ipynb                 myDictionary.csv\r\n",
      "1002HW.ipynb               myDictionary.pickle\r\n",
      "1009.ipynb                 poem.py\r\n",
      "1009HW.ipynb               save_poem&terminal.png\r\n",
      "1016.ipynb                 test. txt\r\n",
      "1016HW.ipynb               test.txt\r\n",
      "106306020_第一週.ipynb\r\n"
     ]
    }
   ],
   "source": [
    "%ls"
   ]
  },
  {
   "cell_type": "code",
   "execution_count": 27,
   "metadata": {},
   "outputs": [
    {
     "name": "stdout",
     "output_type": "stream",
     "text": [
      "天空 小雨\r\n",
      "雲 風     隨便 沒詞了\r\n"
     ]
    }
   ],
   "source": [
    "#看檔案\n",
    "%cat 'test.txt'"
   ]
  },
  {
   "cell_type": "code",
   "execution_count": 28,
   "metadata": {},
   "outputs": [
    {
     "name": "stdout",
     "output_type": "stream",
     "text": [
      "Writing engtest.txt\n"
     ]
    }
   ],
   "source": [
    "%%writefile 'engtest.txt'\n",
    "air    cloud\n",
    "rain love  life"
   ]
  },
  {
   "cell_type": "code",
   "execution_count": 29,
   "metadata": {},
   "outputs": [
    {
     "name": "stdout",
     "output_type": "stream",
     "text": [
      "air    cloud\r\n",
      "rain love  life\r\n"
     ]
    }
   ],
   "source": [
    "%cat 'engtest.txt'"
   ]
  },
  {
   "cell_type": "code",
   "execution_count": 3,
   "metadata": {},
   "outputs": [
    {
     "data": {
      "text/plain": [
       "['air    cloud\\n', 'rain love  life\\n']"
      ]
     },
     "execution_count": 3,
     "metadata": {},
     "output_type": "execute_result"
    }
   ],
   "source": [
    "f = open('engtest.txt', 'r')\n",
    "myWord =f.readlines()\n",
    "f.close()\n",
    "myWord"
   ]
  },
  {
   "cell_type": "code",
   "execution_count": 15,
   "metadata": {},
   "outputs": [
    {
     "data": {
      "text/plain": [
       "[['air', 'cloud'], ['rain', 'love', 'life']]"
      ]
     },
     "execution_count": 15,
     "metadata": {},
     "output_type": "execute_result"
    }
   ],
   "source": [
    "# w = (myWord[1].strip('\\n')).split(\" \")\n",
    "# print(list(filter(lambda w: (w != \"\"), w)))\n",
    "wordList = []\n",
    "for word in myWord:\n",
    "    newWord = (word.strip('\\n')).split()\n",
    "    wordList.append(newWord)\n",
    "wordList"
   ]
  },
  {
   "cell_type": "code",
   "execution_count": 19,
   "metadata": {},
   "outputs": [
    {
     "data": {
      "text/plain": [
       "'air cloudrain love life'"
      ]
     },
     "execution_count": 19,
     "metadata": {},
     "output_type": "execute_result"
    }
   ],
   "source": [
    "wordStr =\"\"\n",
    "for i in wordList:\n",
    "    i = \" \".join(i)\n",
    "    wordStr += i +\" \"\n",
    "    wordStr = wordStr.strip(\" \")\n",
    "wordStr"
   ]
  },
  {
   "cell_type": "code",
   "execution_count": null,
   "metadata": {},
   "outputs": [],
   "source": []
  }
 ],
 "metadata": {
  "kernelspec": {
   "display_name": "Python 3",
   "language": "python",
   "name": "python3"
  }
 },
 "nbformat": 4,
 "nbformat_minor": 2
}
