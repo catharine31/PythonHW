{
 "cells": [
  {
   "cell_type": "code",
   "execution_count": 2,
   "metadata": {},
   "outputs": [],
   "source": [
    "%matplotlib inline\n",
    "import numpy as np\n",
    "import matplotlib.pyplot as plt\n",
    "import pandas as pd\n",
    "from numpy.random import randint"
   ]
  },
  {
   "cell_type": "markdown",
   "metadata": {},
   "source": [
    "## 隨機發牌"
   ]
  },
  {
   "cell_type": "code",
   "execution_count": 4,
   "metadata": {},
   "outputs": [
    {
     "name": "stdout",
     "output_type": "stream",
     "text": [
      "♥︎5, ♣︎7, ♣︎7, ♠︎8, ♦︎4, ♦︎7, ♦︎Q, ♥︎3, ♦︎J, ♦︎A, ♥︎Q, ♣︎6, ♥︎A\n",
      "♣︎3, ♦︎2, ♦︎6, ♥︎Q, ♣︎6, ♥︎10, ♥︎9, ♠︎4, ♣︎5, ♠︎6, ♣︎J, ♣︎Q, ♠︎4\n",
      "♦︎7, ♠︎3, ♦︎5, ♣︎2, ♥︎J, ♠︎3, ♥︎J, ♥︎2, ♥︎A, ♥︎5, ♣︎8, ♠︎5, ♦︎2\n",
      "♣︎5, ♦︎J, ♠︎K, ♥︎K, ♦︎9, ♦︎3, ♥︎10, ♣︎2, ♣︎5, ♠︎Q, ♦︎10, ♥︎Q, ♦︎7\n",
      "\n"
     ]
    }
   ],
   "source": [
    "class Card:\n",
    "    \n",
    "    SUITS = [\"♠︎\", \"♥︎\", \"♦︎\", \"♣︎\"]\n",
    "    RANK = [\"A\", \"2\", \"3\", \"4\", \"5\", \"6\", \"7\", \"8\", \"9\", \"10\", \"J\", \"Q\", \"K\"]\n",
    "\n",
    "    def __init__(self):\n",
    "        pass\n",
    "    def show(self):\n",
    "        s = \"\"\n",
    "        allCard = []\n",
    "        for i in range(4):\n",
    "            yourCard = []\n",
    "            for j in range(13):\n",
    "                rs = randint(0, 4)\n",
    "                rr = randint(0, 13)\n",
    "                theCard = self.SUITS[rs] + self.RANK[rr]\n",
    "                yourCard.append(theCard)  \n",
    "            allCard.append(yourCard)\n",
    "        for each in allCard:\n",
    "            each = \", \".join(each)\n",
    "            s += each + \"\\n\"\n",
    "        return s\n",
    "myCard = Card()\n",
    "print(myCard.show())"
   ]
  },
  {
   "cell_type": "code",
   "execution_count": null,
   "metadata": {},
   "outputs": [],
   "source": []
  },
  {
   "cell_type": "code",
   "execution_count": null,
   "metadata": {},
   "outputs": [],
   "source": []
  }
 ],
 "metadata": {
  "kernelspec": {
   "display_name": "Python 3",
   "language": "python",
   "name": "python3"
  },
  "language_info": {
   "codemirror_mode": {
    "name": "ipython",
    "version": 3
   },
   "file_extension": ".py",
   "mimetype": "text/x-python",
   "name": "python",
   "nbconvert_exporter": "python",
   "pygments_lexer": "ipython3",
   "version": "3.7.1"
  }
 },
 "nbformat": 4,
 "nbformat_minor": 2
}
