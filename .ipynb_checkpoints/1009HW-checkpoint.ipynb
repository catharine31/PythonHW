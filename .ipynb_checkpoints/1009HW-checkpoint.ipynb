{
 "cells": [
  {
   "cell_type": "markdown",
   "metadata": {},
   "source": [
    "## 兌獎"
   ]
  },
  {
   "cell_type": "code",
   "execution_count": 1,
   "metadata": {},
   "outputs": [
    {
     "name": "stdout",
     "output_type": "stream",
     "text": [
      "[40000, 10000, 10000, 4000, 1000, 200]\n",
      "你共中了 65200 元\n"
     ]
    }
   ],
   "source": [
    "def win(einvoice):\n",
    "    money = 0\n",
    "    if einvoice == '45698621':\n",
    "        money = 10000000\n",
    "    elif einvoice == '19614436':\n",
    "        money = 2000000\n",
    "    elif einvoice in  ['96182420', '47464012', '62781818']:\n",
    "        money = 200000\n",
    "    elif einvoice[1:] in  ['6182420', '7464012', '2781818']:\n",
    "        money = 40000\n",
    "    elif einvoice[2:] in ['182420', '464012', '781818']:\n",
    "        money = 10000\n",
    "    elif einvoice[3:] in ['82420', '64012', '81818']:\n",
    "        money = 4000\n",
    "    elif einvoice[4:] in ['2420', '4012', '1818']:\n",
    "        money = 1000\n",
    "    elif einvoice[5:] in ['420', '012', '818', '928', '899']:\n",
    "        money = 200\n",
    "    else:\n",
    "        pass\n",
    "    return money\n",
    "        \n",
    "einvoiceList = ['06182420', '45182420', '11781818', '12381818', '54324012', '10000899']\n",
    "print(list(map(win, einvoiceList)))\n",
    "total = sum(list(map(win, einvoiceList)))\n",
    "print(\"你共中了\", total, \"元\")"
   ]
  },
  {
   "cell_type": "markdown",
   "metadata": {},
   "source": [
    "## 華氏攝氏的轉換"
   ]
  },
  {
   "cell_type": "code",
   "execution_count": 116,
   "metadata": {},
   "outputs": [
    {
     "name": "stdout",
     "output_type": "stream",
     "text": [
      "小於20度：15.6 18.9，要注意保暖\n"
     ]
    }
   ],
   "source": [
    "temperatureF = [60, 78, 90, 82, 66]\n",
    "temperatureC = list(map(lambda f: round((f - 32) * 5/9, 1), temperatureF))\n",
    "print(f\"小於20度：{' '.join(map(str, filter(lambda x: x<20, temperatureC)))}，要注意保暖\")"
   ]
  },
  {
   "cell_type": "markdown",
   "metadata": {},
   "source": [
    "## 英文題目"
   ]
  },
  {
   "cell_type": "code",
   "execution_count": 2,
   "metadata": {},
   "outputs": [
    {
     "data": {
      "text/markdown": [
       "\n",
       "請完成以下填空：\n",
       "1. Tom 不擅長游泳 Tom is not g__d at swimming.\n",
       "2. 他成為眾人的笑柄 He has become an object of r________s.\n",
       "3. Amy 試圖安慰他 Amy tried to c_____s him.\n"
      ],
      "text/plain": [
       "<IPython.core.display.Markdown object>"
      ]
     },
     "metadata": {},
     "output_type": "display_data"
    },
    {
     "name": "stdout",
     "output_type": "stream",
     "text": [
      "good\n",
      "ridiculous\n",
      "console\n",
      "你得到3分\n"
     ]
    }
   ],
   "source": [
    "from IPython.display import display, Markdown\n",
    "md_str = '''\n",
    "請完成以下填空：\n",
    "1. Tom 不擅長游泳 Tom is not g__d at swimming.\n",
    "2. 他成為眾人的笑柄 He has become an object of r________s.\n",
    "3. Amy 試圖安慰他 Amy tried to c_____s him.\n",
    "'''\n",
    "md = Markdown(md_str)\n",
    "display(md)\n",
    "ans1 = input()\n",
    "ans2 = input()\n",
    "ans3 = input()\n",
    "score = 0\n",
    "if ans1 == 'good':\n",
    "    score += 1\n",
    "if ans2 == 'ridiculous':\n",
    "    score += 1\n",
    "if ans3 == 'console':\n",
    "    score += 1\n",
    "print(\"你得到{}分\".format(score))"
   ]
  },
  {
   "cell_type": "code",
   "execution_count": null,
   "metadata": {},
   "outputs": [],
   "source": []
  }
 ],
 "metadata": {
  "kernelspec": {
   "display_name": "Python 3",
   "language": "python",
   "name": "python3"
  },
  "language_info": {
   "codemirror_mode": {
    "name": "ipython",
    "version": 3
   },
   "file_extension": ".py",
   "mimetype": "text/x-python",
   "name": "python",
   "nbconvert_exporter": "python",
   "pygments_lexer": "ipython3",
   "version": "3.7.1"
  }
 },
 "nbformat": 4,
 "nbformat_minor": 2
}
