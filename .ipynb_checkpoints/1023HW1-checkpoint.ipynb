{
 "cells": [
  {
   "cell_type": "code",
   "execution_count": 1,
   "metadata": {},
   "outputs": [],
   "source": [
    "%matplotlib inline\n",
    "import numpy as np\n",
    "import matplotlib.pyplot as plt\n",
    "import pandas as pd"
   ]
  },
  {
   "cell_type": "markdown",
   "metadata": {},
   "source": [
    "## 記帳"
   ]
  },
  {
   "cell_type": "code",
   "execution_count": 1,
   "metadata": {},
   "outputs": [
    {
     "name": "stdout",
     "output_type": "stream",
     "text": [
      "請輸入你記帳的品項 價格 和是否必要支出(必要輸入1, 非必要輸入2)(可以連續輸入 結束請以exit表示)       \n",
      " 舉例： 早餐 30 1 午餐 50 1 \n",
      "早餐 30 1 午餐 50 1 衣服 390 2 飲料 55 2\n",
      "必要：\n",
      "早餐 $ 30 午餐 $ 50 Total $ 80\n",
      "非必要：\n",
      "衣服 $ 390 飲料 $ 55 Total $ 445\n"
     ]
    }
   ],
   "source": [
    "print(\"請輸入你記帳的品項 價格 和是否必要支出(必要輸入1, 非必要輸入2)(可以連續輸入 結束請以exit表示) \\\n",
    "      \\n 舉例： 早餐 30 1 午餐 50 1 \")\n",
    "items = input()\n",
    "items = items.split()\n",
    "necessary = []\n",
    "unnecessary = []\n",
    "necessaryTotal = 0\n",
    "unnecessaryTotal = 0\n",
    "for i in range(2, len(items), 3):\n",
    "    if items[i] == '1':\n",
    "        necessary.append([items[i - 2], '$', items[i - 1]])\n",
    "        necessaryTotal += int(items[i - 1])\n",
    "    elif items[i] == '2':\n",
    "        unnecessary.append([items[i - 2], '$', items[i - 1]])\n",
    "        unnecessaryTotal += int(items[i - 1])\n",
    "print('必要：')\n",
    "for i in necessary:\n",
    "    i = \" \".join(i)\n",
    "    print(i, end = \" \")\n",
    "print('Total $', necessaryTotal)\n",
    "print('非必要：')\n",
    "for i in unnecessary:\n",
    "    i = \" \".join(i)\n",
    "    print(i, end = \" \")\n",
    "print('Total $', unnecessaryTotal)"
   ]
  },
  {
   "cell_type": "code",
   "execution_count": null,
   "metadata": {},
   "outputs": [],
   "source": []
  }
 ],
 "metadata": {
  "kernelspec": {
   "display_name": "Python 3",
   "language": "python",
   "name": "python3"
  },
  "language_info": {
   "codemirror_mode": {
    "name": "ipython",
    "version": 3
   },
   "file_extension": ".py",
   "mimetype": "text/x-python",
   "name": "python",
   "nbconvert_exporter": "python",
   "pygments_lexer": "ipython3",
   "version": "3.7.1"
  }
 },
 "nbformat": 4,
 "nbformat_minor": 2
}
