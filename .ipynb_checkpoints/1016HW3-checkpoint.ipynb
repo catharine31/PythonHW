{
 "cells": [
  {
   "cell_type": "markdown",
   "metadata": {},
   "source": [
    "## 隨機選四張牌 加總比大小 (四人)"
   ]
  },
  {
   "cell_type": "code",
   "execution_count": null,
   "metadata": {},
   "outputs": [],
   "source": [
    "%matplotlib inline\n",
    "import numpy as np\n",
    "import matplotlib.pyplot as plt\n",
    "import pandas as pd\n",
    "from numpy.random import randint"
   ]
  },
  {
   "cell_type": "code",
   "execution_count": 15,
   "metadata": {},
   "outputs": [
    {
     "name": "stdout",
     "output_type": "stream",
     "text": [
      "Alice ([4, 3, 5, 8], 20)\n",
      "Bob ([2, 9, 5, 5], 21)\n",
      "Charlie ([7, 6, 7, 3], 23)\n",
      "Danna ([2, 9, 6, 2], 19)\n"
     ]
    }
   ],
   "source": [
    "card = [1, 2, 3, 4, 5, 6, 7, 8, 9, 10, 11, 12, 13]*4\n",
    "total = []\n",
    "for i in range(4):\n",
    "    each = []\n",
    "    for i in range(4):\n",
    "        random = randint(0, len(card))\n",
    "        each.append(card[random])\n",
    "        card.remove(card[random])\n",
    "    total.append((each, sum(list(each))))\n",
    "name = ['Alice', 'Bob', 'Charlie', 'Danna']\n",
    "for i in range(4):\n",
    "    print(name[i], total[i])\n",
    "        "
   ]
  },
  {
   "cell_type": "code",
   "execution_count": null,
   "metadata": {},
   "outputs": [],
   "source": []
  }
 ],
 "metadata": {
  "kernelspec": {
   "display_name": "Python 3",
   "language": "python",
   "name": "python3"
  },
  "language_info": {
   "codemirror_mode": {
    "name": "ipython",
    "version": 3
   },
   "file_extension": ".py",
   "mimetype": "text/x-python",
   "name": "python",
   "nbconvert_exporter": "python",
   "pygments_lexer": "ipython3",
   "version": "3.7.1"
  }
 },
 "nbformat": 4,
 "nbformat_minor": 2
}
