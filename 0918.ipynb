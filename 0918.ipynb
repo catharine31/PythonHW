{
 "cells": [
  {
   "cell_type": "code",
   "execution_count": 9,
   "metadata": {},
   "outputs": [
    {
     "data": {
      "text/plain": [
       "[<matplotlib.lines.Line2D at 0x10e942390>]"
      ]
     },
     "execution_count": 9,
     "metadata": {},
     "output_type": "execute_result"
    },
    {
     "data": {
      "image/png": "[encoded data removed]",
      "text/plain": [
       "<Figure size 432x288 with 1 Axes>"
      ]
     },
     "metadata": {
      "needs_background": "light"
     },
     "output_type": "display_data"
    }
   ],
   "source": [
    "%matplotlib inline\n",
    "import numpy as np\n",
    "import matplotlib.pyplot as plt\n",
    "import pandas as pd\n",
    "x = [1, 2, 3, 4, 5, 6]\n",
    "y = [7, 8, 9, 10, 11, 12]\n",
    "plt.plot(x, y)"
   ]
  },
  {
   "cell_type": "code",
   "execution_count": 3,
   "metadata": {},
   "outputs": [
    {
     "data": {
      "text/plain": [
       "array([3, 3, 2, 3, 4, 6, 5, 2])"
      ]
     },
     "execution_count": 3,
     "metadata": {},
     "output_type": "execute_result"
    }
   ],
   "source": [
    "#取整數亂數\n",
    "#shift+Tab可以看函數說明\n",
    "np.random.randint(1, 10, 8)"
   ]
  },
  {
   "cell_type": "code",
   "execution_count": 10,
   "metadata": {},
   "outputs": [
    {
     "data": {
      "text/plain": [
       "1.0107157776486408"
      ]
     },
     "execution_count": 10,
     "metadata": {},
     "output_type": "execute_result"
    }
   ],
   "source": [
    "#randn()從常態分佈中取出亂數\n",
    "x = np.random.randn(100)\n",
    "#平均值\n",
    "x.mean()\n",
    "#標準差\n",
    "x.std()"
   ]
  },
  {
   "cell_type": "code",
   "execution_count": 20,
   "metadata": {},
   "outputs": [
    {
     "data": {
      "text/plain": [
       "5.053578888243206"
      ]
     },
     "execution_count": 20,
     "metadata": {},
     "output_type": "execute_result"
    }
   ],
   "source": [
    "#標準差想調成5，平均值調成37\n",
    "x = 5*x + 37\n",
    "x.mean()\n",
    "x.std()"
   ]
  },
  {
   "cell_type": "code",
   "execution_count": 21,
   "metadata": {},
   "outputs": [
    {
     "data": {
      "text/plain": [
       "[<matplotlib.lines.Line2D at 0x11bcc02b0>]"
      ]
     },
     "execution_count": 21,
     "metadata": {},
     "output_type": "execute_result"
    },
    {
     "data": {
      "image/png": "[encoded data removed]",
      "text/plain": [
       "<Figure size 432x288 with 1 Axes>"
      ]
     },
     "metadata": {
      "needs_background": "light"
     },
     "output_type": "display_data"
    }
   ],
   "source": [
    "x = np.linspace(0, 10, 200)\n",
    "y = np.sin(x) + 0.8*x\n",
    "plt.plot(x, y)"
   ]
  },
  {
   "cell_type": "code",
   "execution_count": 26,
   "metadata": {},
   "outputs": [
    {
     "data": {
      "text/plain": [
       "<matplotlib.collections.PathCollection at 0x11c3b3c50>"
      ]
     },
     "execution_count": 26,
     "metadata": {},
     "output_type": "execute_result"
    },
    {
     "data": {
      "image/png": "[encoded data removed]",
      "text/plain": [
       "<Figure size 432x288 with 1 Axes>"
      ]
     },
     "metadata": {
      "needs_background": "light"
     },
     "output_type": "display_data"
    }
   ],
   "source": [
    "#+ 0.4 * np.random.randn(200)是為了仿真，比較有真實感，更像統計資料\n",
    "y1 = np.sin(x) + 0.8*x + 0.4 * np.random.randn(200)\n",
    "plt.scatter(x, y1)"
   ]
  },
  {
   "cell_type": "markdown",
   "metadata": {},
   "source": [
    "# Markdowm\n",
    "# #最大標題\n",
    "## ##次標題\n",
    "### ###第三大標題\n",
    "## -control+M，再按Ｍ，就會變成Markdown\n",
    "### -分點說明\n",
    "* Python\n",
    "* Matplotlib\n",
    "* Numpy\n",
    "* Panda\n",
    "1. Numpy\n"
   ]
  },
  {
   "cell_type": "markdown",
   "metadata": {},
   "source": [
    "### -有順序的分點說明\n",
    "1. Python\n",
    "1. Matplotlib\n",
    "1. Numpy"
   ]
  },
  {
   "cell_type": "markdown",
   "metadata": {},
   "source": [
    "### 連上網頁做超連結[說明文字]（網址）\n",
    "[youtube](https://www.youtube.com)\n"
   ]
  },
  {
   "cell_type": "markdown",
   "metadata": {},
   "source": [
    "### 插入圖片\n",
    "![說明文字]（檔名）\n",
    "![圖片](IMG_6662.jpeg)"
   ]
  },
  {
   "cell_type": "markdown",
   "metadata": {},
   "source": [
    "### 支援LaTax\n",
    "現在有一個函數 f(x) = x^3 - 2x^2 + 5，前後加上$字號\n",
    "\n",
    "$f(x) = x^3 - 2x^2 + 5$\n",
    "### 置中\n",
    "$$L = \\int_a^b x^3 - 2x^2 + 5 \\,dx$$"
   ]
  },
  {
   "cell_type": "code",
   "execution_count": 29,
   "metadata": {},
   "outputs": [
    {
     "data": {
      "text/plain": [
       "10"
      ]
     },
     "execution_count": 29,
     "metadata": {},
     "output_type": "execute_result"
    }
   ],
   "source": [
    "#變數命名可以是中文\n",
    "蘋果 = 10\n",
    "蘋果"
   ]
  },
  {
   "cell_type": "markdown",
   "metadata": {},
   "source": [
    "#### \\pi 再按Tab → π，\\theta → θ"
   ]
  },
  {
   "cell_type": "code",
   "execution_count": 25,
   "metadata": {},
   "outputs": [
    {
     "data": {
      "text/plain": [
       "'E'"
      ]
     },
     "execution_count": 25,
     "metadata": {},
     "output_type": "execute_result"
    }
   ],
   "source": [
    "#List\n",
    "L = [23, 570, 12, 9]\n",
    "L = ['A', 'B', 'C', 'D']\n",
    "L1 = list(\"ABCDEFG\")\n",
    "L2 = L = list(range(10))\n",
    "list(range(1, 11, 2))\n",
    "L1[2]\n",
    "L1[2:4]\n",
    "L1[:]\n",
    "L1[3:]\n",
    "L1[:-2]\n",
    "(L1 + L2)[4]"
   ]
  },
  {
   "cell_type": "code",
   "execution_count": 23,
   "metadata": {},
   "outputs": [
    {
     "data": {
      "text/plain": [
       "{'apple': '蘋果', 'banana': '香蕉', 'orange': '柳橙'}"
      ]
     },
     "execution_count": 23,
     "metadata": {},
     "output_type": "execute_result"
    }
   ],
   "source": [
    "#Dictionary\n",
    "d = {'apple': '蘋果', 'banana': '香蕉'}\n",
    "d['apple']\n",
    "d['orange'] = '柳橙'\n",
    "d"
   ]
  },
  {
   "cell_type": "code",
   "execution_count": 56,
   "metadata": {},
   "outputs": [
    {
     "name": "stdout",
     "output_type": "stream",
     "text": [
      "Hello World\n",
      "請輸入名字: name\n"
     ]
    }
   ],
   "source": [
    "print('Hello World')\n",
    "name = input('請輸入名字: ')"
   ]
  },
  {
   "cell_type": "code",
   "execution_count": 57,
   "metadata": {},
   "outputs": [
    {
     "name": "stdout",
     "output_type": "stream",
     "text": [
      ">>: 嗨\n",
      ">>: 拍拍\n"
     ]
    }
   ],
   "source": [
    "ham = input('>>: ')\n",
    "print('>>: 拍拍')"
   ]
  },
  {
   "cell_type": "code",
   "execution_count": 2,
   "metadata": {},
   "outputs": [],
   "source": [
    "def pipi():\n",
    "    ham = input('>>: ')\n",
    "    print('>>: 拍拍')"
   ]
  },
  {
   "cell_type": "code",
   "execution_count": 64,
   "metadata": {},
   "outputs": [
    {
     "data": {
      "text/plain": [
       "27"
      ]
     },
     "execution_count": 64,
     "metadata": {},
     "output_type": "execute_result"
    }
   ],
   "source": [
    "def cube(x):\n",
    "    return x**3\n",
    "a = cube(3)\n",
    "a"
   ]
  },
  {
   "cell_type": "markdown",
   "metadata": {},
   "source": [
    "### Jupyter notebook的互動功能"
   ]
  },
  {
   "cell_type": "code",
   "execution_count": 1,
   "metadata": {},
   "outputs": [
    {
     "data": {
      "application/vnd.jupyter.widget-view+json": {
       "model_id": "396f1d31c8af41e097eb70e073c516af",
       "version_major": 2,
       "version_minor": 0
      },
      "text/plain": [
       "interactive(children=(FloatSlider(value=3.0, description='x', max=9.0, min=-3.0), Output()), _dom_classes=('wi…"
      ]
     },
     "metadata": {},
     "output_type": "display_data"
    },
    {
     "data": {
      "application/vnd.jupyter.widget-view+json": {
       "model_id": "99ceb678c5124383b08876b10ff99701",
       "version_major": 2,
       "version_minor": 0
      },
      "text/plain": [
       "interactive(children=(Text(value='hi', description='x'), Output()), _dom_classes=('widget-interact',))"
      ]
     },
     "metadata": {},
     "output_type": "display_data"
    },
    {
     "data": {
      "application/vnd.jupyter.widget-view+json": {
       "model_id": "a04c1cd3374a40a4a4c8e277d3e4afe7",
       "version_major": 2,
       "version_minor": 0
      },
      "text/plain": [
       "interactive(children=(Dropdown(description='x', options=('台北', '台中', '高雄'), value='台北'), Output()), _dom_class…"
      ]
     },
     "metadata": {},
     "output_type": "display_data"
    },
    {
     "data": {
      "text/plain": [
       "<function __main__.f(x)>"
      ]
     },
     "execution_count": 1,
     "metadata": {},
     "output_type": "execute_result"
    }
   ],
   "source": [
    "from ipywidgets import interact\n",
    "def f(x):\n",
    "    print(x)\n",
    "\n",
    "interact(f, x = 3.)\n",
    "interact(f, x = 'hi')\n",
    "interact(f, x = ['台北', '台中', '高雄'])"
   ]
  },
  {
   "cell_type": "code",
   "execution_count": 2,
   "metadata": {},
   "outputs": [
    {
     "data": {
      "application/vnd.jupyter.widget-view+json": {
       "model_id": "82e6fbb6a7c7474a9d5af05f6d4373ac",
       "version_major": 2,
       "version_minor": 0
      },
      "text/plain": [
       "interactive(children=(Dropdown(description='x', options={'台北': 1, '台中': 2, '高雄': 3}, value=1), Output()), _dom…"
      ]
     },
     "metadata": {},
     "output_type": "display_data"
    },
    {
     "data": {
      "text/plain": [
       "<function __main__.f(x)>"
      ]
     },
     "execution_count": 2,
     "metadata": {},
     "output_type": "execute_result"
    }
   ],
   "source": [
    "interact(f, x = {'台北': 1, '台中': 2, '高雄': 3})"
   ]
  },
  {
   "cell_type": "code",
   "execution_count": 3,
   "metadata": {},
   "outputs": [],
   "source": [
    "def pipi2(x):\n",
    "    print('拍拍')"
   ]
  },
  {
   "cell_type": "code",
   "execution_count": 4,
   "metadata": {},
   "outputs": [
    {
     "data": {
      "application/vnd.jupyter.widget-view+json": {
       "model_id": "0a3a3d846bfb49f6b2cc2123f8473ca6",
       "version_major": 2,
       "version_minor": 0
      },
      "text/plain": [
       "interactive(children=(Text(value='請輸入你的訊息:', description='x'), Output()), _dom_classes=('widget-interact',))"
      ]
     },
     "metadata": {},
     "output_type": "display_data"
    },
    {
     "data": {
      "text/plain": [
       "<function __main__.pipi2(x)>"
      ]
     },
     "execution_count": 4,
     "metadata": {},
     "output_type": "execute_result"
    }
   ],
   "source": [
    "interact(pipi2, x = \"請輸入你的訊息:\")"
   ]
  },
  {
   "cell_type": "code",
   "execution_count": 5,
   "metadata": {
    "scrolled": true
   },
   "outputs": [
    {
     "data": {
      "application/vnd.jupyter.widget-view+json": {
       "model_id": "b01735fed8d74ff7ba6f77992c2b97d5",
       "version_major": 2,
       "version_minor": 0
      },
      "text/plain": [
       "interactive(children=(Text(value='請輸入你的訊息: ', description='x'), Button(description='Run Interact', style=Butto…"
      ]
     },
     "metadata": {},
     "output_type": "display_data"
    },
    {
     "data": {
      "text/plain": [
       "<function __main__.pipi2(x)>"
      ]
     },
     "execution_count": 5,
     "metadata": {},
     "output_type": "execute_result"
    }
   ],
   "source": [
    "from ipywidgets import interact_manual\n",
    "interact_manual(pipi2, x = '請輸入你的訊息: ')"
   ]
  },
  {
   "cell_type": "code",
   "execution_count": 6,
   "metadata": {},
   "outputs": [
    {
     "data": {
      "application/vnd.jupyter.widget-view+json": {
       "model_id": "42fb4ba5acad43c195e4d28e35c99bd3",
       "version_major": 2,
       "version_minor": 0
      },
      "text/plain": [
       "interactive(children=(IntSlider(value=1, description='n', max=40, min=1), Output()), _dom_classes=('widget-int…"
      ]
     },
     "metadata": {},
     "output_type": "display_data"
    },
    {
     "data": {
      "text/plain": [
       "<function __main__.move(n=1)>"
      ]
     },
     "execution_count": 6,
     "metadata": {},
     "output_type": "execute_result"
    }
   ],
   "source": [
    "def move(n = 1):\n",
    "    print(\" \"*n + \"a\")\n",
    "interact(move, n = (1, 40))"
   ]
  },
  {
   "cell_type": "code",
   "execution_count": 7,
   "metadata": {},
   "outputs": [
    {
     "data": {
      "application/vnd.jupyter.widget-view+json": {
       "model_id": "30218e9f06464d73926889562fa02ca0",
       "version_major": 2,
       "version_minor": 0
      },
      "text/plain": [
       "interactive(children=(IntSlider(value=1, description='n', max=40, min=1), Output()), _dom_classes=('widget-int…"
      ]
     },
     "metadata": {},
     "output_type": "display_data"
    }
   ],
   "source": [
    "#加上分號; <function __main__.move(n=1)>會消失\n",
    "interact(move, n = (1, 40));"
   ]
  },
  {
   "cell_type": "code",
   "execution_count": 8,
   "metadata": {},
   "outputs": [
    {
     "data": {
      "application/vnd.jupyter.widget-view+json": {
       "model_id": "f31be21f6266425c8162653609742738",
       "version_major": 2,
       "version_minor": 0
      },
      "text/plain": [
       "interactive(children=(IntSlider(value=1, description='n', max=20, min=1), Output()), _dom_classes=('widget-int…"
      ]
     },
     "metadata": {},
     "output_type": "display_data"
    },
    {
     "data": {
      "text/plain": [
       "<function __main__.myplot(n=1)>"
      ]
     },
     "execution_count": 8,
     "metadata": {},
     "output_type": "execute_result"
    }
   ],
   "source": [
    "# n = 1為預設\n",
    "def myplot(n = 1):\n",
    "    x = np.linspace(-5, 5, 500)\n",
    "    y = np.sinc(n*x)\n",
    "    plt.plot(x, y)\n",
    "interact(myplot, n = (1, 20))"
   ]
  },
  {
   "cell_type": "code",
   "execution_count": 94,
   "metadata": {},
   "outputs": [
    {
     "data": {
      "text/plain": [
       "False"
      ]
     },
     "execution_count": 94,
     "metadata": {},
     "output_type": "execute_result"
    }
   ],
   "source": [
    "2>3"
   ]
  },
  {
   "cell_type": "code",
   "execution_count": 95,
   "metadata": {},
   "outputs": [
    {
     "data": {
      "text/plain": [
       "True"
      ]
     },
     "execution_count": 95,
     "metadata": {},
     "output_type": "execute_result"
    }
   ],
   "source": [
    "3>2"
   ]
  },
  {
   "cell_type": "code",
   "execution_count": 96,
   "metadata": {},
   "outputs": [
    {
     "data": {
      "text/plain": [
       "False"
      ]
     },
     "execution_count": 96,
     "metadata": {},
     "output_type": "execute_result"
    }
   ],
   "source": [
    "a = 2\n",
    "a == 3"
   ]
  },
  {
   "cell_type": "code",
   "execution_count": 104,
   "metadata": {},
   "outputs": [
    {
     "name": "stdout",
     "output_type": "stream",
     "text": [
      "請輸入成績：74\n",
      "C\n"
     ]
    }
   ],
   "source": [
    "g = input(\"請輸入成績：\")\n",
    "g = int(g)\n",
    "if g < 60:\n",
    "    print(\"太混了啦\")\n",
    "elif g > 90:\n",
    "    print(\"Ａ\")\n",
    "elif g > 80:\n",
    "    print(\"B\")\n",
    "else:\n",
    "    print(\"C\")"
   ]
  },
  {
   "cell_type": "code",
   "execution_count": 106,
   "metadata": {},
   "outputs": [
    {
     "name": "stdout",
     "output_type": "stream",
     "text": [
      ">> 你好\n",
      "拍拍\n"
     ]
    }
   ],
   "source": [
    "msg = input(\">> \")\n",
    "if (\"開心\" in msg):\n",
    "    print(\"真好\")\n",
    "else:\n",
    "    print(\"拍拍\")"
   ]
  },
  {
   "cell_type": "code",
   "execution_count": 1,
   "metadata": {},
   "outputs": [
    {
     "name": "stdout",
     "output_type": "stream",
     "text": [
      ">>嗨\n",
      "不要來煩我\n",
      ">>你在幹嘛\n",
      "沒幹嘛\n",
      ">>要不要一起吃午餐\n",
      "不要\n",
      ">>要不要去看電影\n",
      "不要\n",
      ">>那你要不要跟我聊天\n",
      "不要\n",
      ">>你再拒絕我 我就不理你了\n",
      "好，你終於不來吵我了\n",
      ">>掰\n",
      "掰掰\n"
     ]
    }
   ],
   "source": [
    "msg = \"\"\n",
    "dict = {'a': '沒幹嘛', 'b': '不要', 'c': '好，你終於不來吵我了'}\n",
    "while (msg != \"掰\"):\n",
    "    msg = input(\">>\")\n",
    "    if '你在幹嘛' in msg:\n",
    "        print(dict['a'])\n",
    "    elif '要不要' in msg:\n",
    "        print(dict['b'])\n",
    "    elif '不理你' in msg:\n",
    "        print(dict['c'])\n",
    "    elif '掰' in msg:\n",
    "        print(\"掰掰\")\n",
    "    else:\n",
    "        print('不要來煩我')"
   ]
  },
  {
   "cell_type": "code",
   "execution_count": null,
   "metadata": {},
   "outputs": [
    {
     "name": "stdout",
     "output_type": "stream",
     "text": [
      "請輸入里程(公里): -2\n",
      "你輸入的值不合理，請輸入正確的值\n",
      "請輸入里程(公里): 3.4\n",
      "你的費用為 125 元\n",
      "請輸入里程(公里): 0.9\n",
      "你的費用為 70 元\n"
     ]
    }
   ],
   "source": [
    "import math\n",
    "price = 70\n",
    "overDist = 0.2\n",
    "overPrice = 5\n",
    "total = 0\n",
    "while True:\n",
    "    distance = input(\"請輸入里程(公里): \")\n",
    "    distance = float(distance)\n",
    "    if distance <= 0:\n",
    "        print(\"你輸入的值不合理，請輸入正確的值\")\n",
    "    elif 0 < distance <= 1.25:\n",
    "        print(\"你的費用為\", price, \"元\")\n",
    "    else:\n",
    "        total = price + overPrice * math.ceil((distance - 1.25) / overDist)\n",
    "        print(\"你的費用為\", total, \"元\")"
   ]
  },
  {
   "cell_type": "code",
   "execution_count": 26,
   "metadata": {},
   "outputs": [
    {
     "data": {
      "text/plain": [
       "[1, 3, 5, 7, 9]"
      ]
     },
     "execution_count": 26,
     "metadata": {},
     "output_type": "execute_result"
    }
   ],
   "source": []
  },
  {
   "cell_type": "code",
   "execution_count": null,
   "metadata": {},
   "outputs": [],
   "source": []
  }
 ],
 "metadata": {
  "kernelspec": {
   "display_name": "Python 3",
   "language": "python",
   "name": "python3"
  },
  "language_info": {
   "codemirror_mode": {
    "name": "ipython",
    "version": 3
   },
   "file_extension": ".py",
   "mimetype": "text/x-python",
   "name": "python",
   "nbconvert_exporter": "python",
   "pygments_lexer": "ipython3",
   "version": "3.7.1"
  }
 },
 "nbformat": 4,
 "nbformat_minor": 2
}
