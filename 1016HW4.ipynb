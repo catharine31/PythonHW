{
 "cells": [
  {
   "cell_type": "markdown",
   "metadata": {},
   "source": [
    "## 讀檔看誰花最多錢"
   ]
  },
  {
   "cell_type": "code",
   "execution_count": 2,
   "metadata": {},
   "outputs": [
    {
     "name": "stdout",
     "output_type": "stream",
     "text": [
      "大家的花費：\n",
      "Danna 2300 1000 1200 1100 total:  5600\n",
      "Bob 1300 2000 900 1200 total:  5400\n",
      "Alice 1200 1500 1000 990 total:  4690\n",
      "Charlie 1100 1300 1000 1250 total:  4650\n",
      "花最多錢的人：  Danna\n"
     ]
    }
   ],
   "source": [
    "f = open(\"Cost.txt\", \"r\")\n",
    "myData = f.readlines()\n",
    "f.close()\n",
    "myNewData = []\n",
    "for i in myData:\n",
    "    i = i.strip().split()\n",
    "    i[1:] = list(map(int, i[1:]))\n",
    "    myNewData.append(i)\n",
    "#print(myNewData)\n",
    "sortList = []\n",
    "for i in myNewData:\n",
    "    total = sum(list(i[1:]))\n",
    "    sortList.append([i, total])\n",
    "sortList.sort(key=lambda x: x[1], reverse=True)\n",
    "#print(sortList)\n",
    "print(\"大家的花費：\")\n",
    "for i in sortList:\n",
    "    a = \" \".join(list(map(str, i[0])))\n",
    "    print(a, 'total: ', i[1])\n",
    "print(\"花最多錢的人： \", sortList[0][0][0])"
   ]
  },
  {
   "cell_type": "code",
   "execution_count": null,
   "metadata": {},
   "outputs": [],
   "source": []
  }
 ],
 "metadata": {
  "kernelspec": {
   "display_name": "Python 3",
   "language": "python",
   "name": "python3"
  },
  "language_info": {
   "codemirror_mode": {
    "name": "ipython",
    "version": 3
   },
   "file_extension": ".py",
   "mimetype": "text/x-python",
   "name": "python",
   "nbconvert_exporter": "python",
   "pygments_lexer": "ipython3",
   "version": "3.7.1"
  }
 },
 "nbformat": 4,
 "nbformat_minor": 2
}
