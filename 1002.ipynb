{
 "cells": [
  {
   "cell_type": "code",
   "execution_count": 2,
   "metadata": {},
   "outputs": [],
   "source": [
    "%matplotlib inline\n",
    "import numpy as np\n",
    "import matplotlib.pyplot as plt\n",
    "import pandas as pd\n",
    "from numpy.random import randint"
   ]
  },
  {
   "cell_type": "code",
   "execution_count": 8,
   "metadata": {},
   "outputs": [
    {
     "name": "stdout",
     "output_type": "stream",
     "text": [
      "9,6,7,2,4,6,2,2,2,4,"
     ]
    }
   ],
   "source": [
    "#randint不包含最後\n",
    "for i in range(10):\n",
    "    print(randint(1, 10), end=\",\")"
   ]
  },
  {
   "cell_type": "markdown",
   "metadata": {},
   "source": [
    "一對'''可以段落行"
   ]
  },
  {
   "cell_type": "code",
   "execution_count": 21,
   "metadata": {},
   "outputs": [],
   "source": [
    "words='''\n",
    "我\n",
    "我的\n",
    "妳\n",
    "妳的\n",
    "心\n",
    "溫柔\n",
    "日子\n",
    "雨\n",
    "風\n",
    "天空\n",
    "雲\n",
    "等待\n",
    "哭泣\n",
    "戀愛\n",
    "相遇\n",
    "分離\n",
    "忘記\n",
    "心醉\n",
    "驀然\n",
    "吹過\n",
    "思念\n",
    "靈魂\n",
    "停止'''"
   ]
  },
  {
   "cell_type": "code",
   "execution_count": 26,
   "metadata": {},
   "outputs": [],
   "source": [
    "from numpy.random import choice"
   ]
  },
  {
   "cell_type": "code",
   "execution_count": 29,
   "metadata": {},
   "outputs": [
    {
     "data": {
      "text/plain": [
       "array(['妳的', '妳的', '相遇', '相遇', '忘記'], dtype='<U2')"
      ]
     },
     "execution_count": 29,
     "metadata": {},
     "output_type": "execute_result"
    }
   ],
   "source": [
    "phrase = words.split(\"\\n\")[1:]\n",
    "choice(phrase, 5)"
   ]
  },
  {
   "cell_type": "code",
   "execution_count": 42,
   "metadata": {},
   "outputs": [],
   "source": [
    "#整首詩的長度(這首詩有幾句)\n",
    "l = randint(3, 6)\n",
    "#某句話需要幾個字\n",
    "ll = randint(5, 7)\n",
    "#在phrase取ll個\n",
    "s = choice(phrase, ll)\n",
    "s = \" \".join(s)\n"
   ]
  },
  {
   "cell_type": "code",
   "execution_count": 46,
   "metadata": {},
   "outputs": [
    {
     "name": "stdout",
     "output_type": "stream",
     "text": [
      "驀然 靈魂 思念 等待 戀愛\n",
      "戀愛 我的 思念 靈魂 我的\n",
      "心醉 等待 妳 天空 忘記\n",
      "溫柔 靈魂 靈魂 雨 思念\n"
     ]
    }
   ],
   "source": [
    "from numpy.random import randint\n",
    "from numpy.random import choice\n",
    "words='''\n",
    "我\n",
    "我的\n",
    "妳\n",
    "妳的\n",
    "心\n",
    "溫柔\n",
    "日子\n",
    "雨\n",
    "風\n",
    "天空\n",
    "雲\n",
    "等待\n",
    "哭泣\n",
    "戀愛\n",
    "相遇\n",
    "分離\n",
    "忘記\n",
    "心醉\n",
    "驀然\n",
    "吹過\n",
    "思念\n",
    "靈魂\n",
    "停止'''\n",
    "phrase = words.split(\"\\n\")[1:]\n",
    "l = randint(3, 6)\n",
    "for i in range(l):\n",
    "    ll = randint(5, 7)\n",
    "    print(\" \".join(choice(phrase, ll)))"
   ]
  },
  {
   "cell_type": "code",
   "execution_count": 47,
   "metadata": {},
   "outputs": [
    {
     "name": "stdout",
     "output_type": "stream",
     "text": [
      "The following commands were written to file `poem.py`:\n",
      "from numpy.random import randint\n",
      "from numpy.random import choice\n",
      "words='''\n",
      "我\n",
      "我的\n",
      "妳\n",
      "妳的\n",
      "心\n",
      "溫柔\n",
      "日子\n",
      "雨\n",
      "風\n",
      "天空\n",
      "雲\n",
      "等待\n",
      "哭泣\n",
      "戀愛\n",
      "相遇\n",
      "分離\n",
      "忘記\n",
      "心醉\n",
      "驀然\n",
      "吹過\n",
      "思念\n",
      "靈魂\n",
      "停止'''\n",
      "phrase = words.split(\"\\n\")[1:]\n",
      "l = randint(3, 6)\n",
      "for i in range(l):\n",
      "    ll = randint(5, 7)\n",
      "    print(\" \".join(choice(phrase, ll)))\n"
     ]
    }
   ],
   "source": [
    "#把剛剛的詩存起來\n",
    "%save \"poem.py\" 46"
   ]
  },
  {
   "cell_type": "code",
   "execution_count": 8,
   "metadata": {},
   "outputs": [
    {
     "name": "stdout",
     "output_type": "stream",
     "text": [
      "[['g', 'h', 'i', 'j']]\n"
     ]
    }
   ],
   "source": [
    "L = ['a', 'b', 'c', 'd', 'e', 'f', 'g', 'h', 'i', 'j']\n",
    "L1 = []\n",
    "L1.append(L[6:])\n",
    "print(L1)"
   ]
  },
  {
   "cell_type": "code",
   "execution_count": 27,
   "metadata": {},
   "outputs": [
    {
     "name": "stdout",
     "output_type": "stream",
     "text": [
      "你有有幾人？3\n",
      "每人的家事分別是：\n",
      "take out the trash, sweep the floor\n",
      "---------------\n",
      "do the laudry, cook\n",
      "---------------\n",
      "clean the bathroom, mop the floor, do the dishes\n",
      "---------------\n"
     ]
    }
   ],
   "source": [
    "from numpy.random import randint\n",
    "housework = [\"cook\", \"mop the floor\", \"sweep the floor\", \n",
    "                 \"do the laudry\", \"do the dishes\", \"take out the trash\", \"clean the bathroom\"]\n",
    "numOfHousework = len(housework)\n",
    "family = []\n",
    "member = int(input(\"你有有幾人？\"))\n",
    "for i in range(member):\n",
    "    each = []\n",
    "    for i in range(numOfHousework//member):\n",
    "        n = randint(0, len(housework))\n",
    "        each.append(housework[n])\n",
    "        housework.remove(housework[n])\n",
    "    family.append(each)\n",
    "if (numOfHousework%member) != 0:\n",
    "    m = randint(0, member)\n",
    "    for i in housework:\n",
    "        family[m].append(i)\n",
    "print(\"每人的家事分別是：\")\n",
    "for j in family:\n",
    "    print(\", \".join(j))\n",
    "    print(\"---------------\")"
   ]
  },
  {
   "cell_type": "code",
   "execution_count": null,
   "metadata": {},
   "outputs": [],
   "source": [
    " def jumpGame(nums):\n",
    "        poisition = 0\n",
    "        for i, j in enumerate(nums):\n",
    "            if poisition < i:\n",
    "                return False\n",
    "            poisition = max(i, poisition)\n",
    "           \n",
    "        return True\n",
    "    \n",
    "a = [3, 3, 4, 1, 2, 5, 7]\n",
    "b = [2, 4, 2, 1, 1, 0, 2]\n",
    "print(jumpGame(a))\n",
    "print(jumpGame(b))"
   ]
  }
 ],
 "metadata": {
  "kernelspec": {
   "display_name": "Python 3",
   "language": "python",
   "name": "python3"
  },
  "language_info": {
   "codemirror_mode": {
    "name": "ipython",
    "version": 3
   },
   "file_extension": ".py",
   "mimetype": "text/x-python",
   "name": "python",
   "nbconvert_exporter": "python",
   "pygments_lexer": "ipython3",
   "version": "3.7.1"
  }
 },
 "nbformat": 4,
 "nbformat_minor": 2
}
